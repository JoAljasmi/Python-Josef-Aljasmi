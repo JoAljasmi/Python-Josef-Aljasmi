{
 "cells": [
  {
   "cell_type": "code",
   "execution_count": null,
   "outputs": [],
   "source": [
    "class StepTracker:\n",
    "    def __init__(self):\n",
    "        self._steps = 0  # Initialize steps as a private variable with an underscore\n",
    "\n",
    "    @property\n",
    "    def steps(self):\n",
    "        return self._steps\n",
    "\n",
    "    def step(self):\n",
    "        self._steps += 1\n",
    "\n",
    "    def reset(self):\n",
    "        self._steps = 0\n",
    "\n",
    "# Instantiate the StepTracker class\n",
    "tracker = StepTracker()\n",
    "\n",
    "# Simulate walking 1000 steps\n",
    "for _ in range(1000):\n",
    "    tracker.step()\n",
    "\n",
    "# Print the value of \"steps\"\n",
    "print(\"Total steps walked:\", tracker.steps)"
   ],
   "metadata": {
    "collapsed": false
   },
   "id": "f6d0a27c3c5c343f"
  },
  {
   "cell_type": "code",
   "execution_count": 1,
   "id": "initial_id",
   "metadata": {
    "collapsed": true,
    "ExecuteTime": {
     "end_time": "2023-10-22T17:03:42.493675Z",
     "start_time": "2023-10-22T17:03:42.031084200Z"
    }
   },
   "outputs": [
    {
     "ename": "AttributeError",
     "evalue": "'Water' object has no attribute 'fillglass'",
     "output_type": "error",
     "traceback": [
      "\u001B[1;31m---------------------------------------------------------------------------\u001B[0m",
      "\u001B[1;31mAttributeError\u001B[0m                            Traceback (most recent call last)",
      "Cell \u001B[1;32mIn[1], line 30\u001B[0m\n\u001B[0;32m     21\u001B[0m                 \u001B[38;5;28mprint\u001B[39m(\u001B[38;5;124m\"\u001B[39m\u001B[38;5;124mThe glass is already empty\u001B[39m\u001B[38;5;124m\"\u001B[39m)\n\u001B[0;32m     28\u001B[0m glasses \u001B[38;5;241m=\u001B[39m Water()\n\u001B[1;32m---> 30\u001B[0m \u001B[43mglasses\u001B[49m\u001B[38;5;241;43m.\u001B[39;49m\u001B[43mfillglass\u001B[49m()\n\u001B[0;32m     31\u001B[0m glasses\u001B[38;5;241m.\u001B[39memptyglass()\n",
      "\u001B[1;31mAttributeError\u001B[0m: 'Water' object has no attribute 'fillglass'"
     ]
    }
   ],
   "source": [
    "class Water:\n",
    "    def __init__(self):\n",
    "        self._glassfull = bool\n",
    "        \n",
    "        @property\n",
    "        def glasschecker(self):\n",
    "            return self._glassfull\n",
    "        \n",
    "        def fillglass(self):\n",
    "            if not self._glassfull:\n",
    "                self._glassfull = True\n",
    "                print(\"Filling the glass with water\")\n",
    "            else:\n",
    "                print(\"The glass is already full\")\n",
    "        \n",
    "        def emptyglass(self):\n",
    "            if self._glassfull:\n",
    "                self._glassfull = False\n",
    "                print(\"Emptying the glass\")\n",
    "            else:\n",
    "                print(\"The glass is already empty\")\n",
    "                \n",
    "       \n",
    "            \n",
    "            \n",
    "        \n",
    "        \n",
    "glasses = Water()\n",
    "\n",
    "glasses.fillglass()\n",
    "glasses.emptyglass()\n",
    "\n",
    "    \n",
    "    \n",
    "    \n",
    "    \n",
    "        \n",
    "            \n",
    "    "
   ]
  },
  {
   "cell_type": "code",
   "execution_count": 35,
   "outputs": [
    {
     "name": "stdout",
     "output_type": "stream",
     "text": [
      "x o x x x \n",
      "x x o x x \n",
      "x x x o x \n",
      "o x x x o \n",
      "x o x x x \n"
     ]
    }
   ],
   "source": [
    "n = 5\n",
    "\n",
    "for i in range(n):\n",
    "    for j in range(n):\n",
    "        if j :\n",
    "            print(\"o\", end= \" \")\n",
    "        else:\n",
    "            print(\"x\", end=\" \")\n",
    "    print()"
   ],
   "metadata": {
    "collapsed": false,
    "ExecuteTime": {
     "end_time": "2023-10-22T19:29:23.435323500Z",
     "start_time": "2023-10-22T19:29:23.424821Z"
    }
   },
   "id": "8ed24b949bb7a2f2"
  },
  {
   "cell_type": "code",
   "execution_count": null,
   "outputs": [],
   "source": [],
   "metadata": {
    "collapsed": false
   },
   "id": "dc76a2d45de43f4b"
  }
 ],
 "metadata": {
  "kernelspec": {
   "display_name": "Python 3",
   "language": "python",
   "name": "python3"
  },
  "language_info": {
   "codemirror_mode": {
    "name": "ipython",
    "version": 2
   },
   "file_extension": ".py",
   "mimetype": "text/x-python",
   "name": "python",
   "nbconvert_exporter": "python",
   "pygments_lexer": "ipython2",
   "version": "2.7.6"
  }
 },
 "nbformat": 4,
 "nbformat_minor": 5
}
