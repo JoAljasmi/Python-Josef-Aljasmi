{
 "cells": [
  {
   "cell_type": "markdown",
   "metadata": {},
   "source": [
    "## 1. Check sign (*)\n",
    "\n",
    "Ask the user to input a number and check if this number is **positive**, **negative** or **zero** and print it out."
   ]
  },
  {
   "cell_type": "code",
   "execution_count": 4,
   "metadata": {},
   "outputs": [
    {
     "name": "stdout",
     "output_type": "stream",
     "text": [
      "your number is 0\n"
     ]
    }
   ],
   "source": [
    "number = int(input(\"Enter number: \"))\n",
    "\n",
    "if number > 0 :\n",
    "    print(\"your number is positive\")\n",
    "elif number == 0:\n",
    "    print(\"your number is 0\")\n",
    "elif number < 0:\n",
    "    print(\"your number is negative\")\n",
    "else:\n",
    "    print(\"Not a number\")"
   ]
  },
  {
   "cell_type": "markdown",
   "metadata": {},
   "source": [
    "---\n",
    "## 2. Smallest (*)\n",
    "Ask the user to input two numbers and check which one is the smallest and print it out.  "
   ]
  },
  {
   "cell_type": "code",
   "execution_count": 8,
   "metadata": {},
   "outputs": [
    {
     "name": "stdout",
     "output_type": "stream",
     "text": [
      "second number is bigger\n"
     ]
    }
   ],
   "source": [
    "number1 = float(input(\"type first number: \"))\n",
    "number2 = float(input(\"type second number: \"))\n",
    "\n",
    "if number1 > number2:\n",
    "    print(\"first number is bigger\")\n",
    "elif number1 < number2:\n",
    "    print(\"second number is bigger\")\n",
    "else:\n",
    "    print(\"You did not type a number or they are equal to eachother\")"
   ]
  },
  {
   "cell_type": "markdown",
   "metadata": {},
   "source": [
    "---\n",
    "## 3. Right angle (*)\n",
    "\n",
    "Ask the user to input three angles and check if the triangle has a right angle. Your code should make sure that all three angles are valid and make up a triangle.\n",
    "\n",
    "<img align=\"left\" src=\"../Assets/triangle_angles.png\" width=\"200\"/>"
   ]
  },
  {
   "cell_type": "code",
   "execution_count": 11,
   "metadata": {},
   "outputs": [
    {
     "name": "stdout",
     "output_type": "stream",
     "text": [
      "your triangle is a right angle\n"
     ]
    }
   ],
   "source": [
    "angle1 = float(input(\"type first angle: \"))\n",
    "angle2 = float(input(\"type second angle: \"))\n",
    "angle3 = float(input(\"type final angle: \"))\n",
    "\n",
    "if angle1 == 90 or angle2 == 90 or angle3 == 90:\n",
    "    print(\"your triangle is a right angle\")\n",
    "else:\n",
    "    print(\"your triangle is not a right angle\")\n",
    "\n",
    "\n"
   ]
  },
  {
   "cell_type": "markdown",
   "metadata": {},
   "source": [
    "----\n",
    "## 4. Medicine (*)\n",
    "\n",
    "The information in the following table is stated in a medicine package. Also it is stated that for children weight is more important than age.\n",
    "\n",
    "<table align=\"left\">\n",
    "<thead>\n",
    "    <tr>\n",
    "        <th></th>\n",
    "        <th>Age</th>\n",
    "        <th>Number of pills</th>\n",
    "    </tr>\n",
    "</thead>\n",
    "\n",
    "<tbody>\n",
    "  <tr>\n",
    "    <td>Adults & adolescent <br>over 40 kg</td>\n",
    "    <td>over 12 years</td>\n",
    "    <td>1-2</td>\n",
    "  </tr>\n",
    "\n",
    "  <tr>\n",
    "    <td>Children 26-40 kg</td>\n",
    "    <td>7-12 years</td>\n",
    "    <td>1/2-1</td>\n",
    "  </tr>\n",
    "\n",
    "  <tr>\n",
    "    <td>Children 15-25 kg</td>\n",
    "    <td>3-7 years</td>\n",
    "    <td>1/2</td>\n",
    "  </tr>\n",
    "</tbody>\n",
    "</table>"
   ]
  },
  {
   "cell_type": "markdown",
   "metadata": {},
   "source": [
    "Let the user input an **age** and a **weight**, the program should recommend the number of pills for the user."
   ]
  },
  {
   "cell_type": "code",
   "execution_count": 19,
   "metadata": {},
   "outputs": [
    {
     "name": "stdout",
     "output_type": "stream",
     "text": [
      "you should take half a pill or 1\n"
     ]
    }
   ],
   "source": [
    "weight = float(input(\"Input your weight: \"))\n",
    "\n",
    "if weight > 40:\n",
    "    print(\"you should take 1-2 pills\")\n",
    "elif weight <= 40 and weight >= 26:\n",
    "    print(\"you should take half a pill or 1\")\n",
    "elif weight <= 25 and weight >= 15:\n",
    "    print(\"You should only take half a pill\")\n",
    "else:\n",
    "    print(\"contact your local doctor\")"
   ]
  },
  {
   "cell_type": "markdown",
   "metadata": {},
   "source": [
    "---\n",
    "## 5. Divisible (*)\n",
    "Let the user input a number. Check if the number is\n",
    "<ol type=\"a\">\n",
    "  <li>even or odd</li>\n",
    "  <li>is divisible by 5</li>\n",
    "  <li>is divisble by 5 and odd</li>\n",
    "</ol> "
   ]
  },
  {
   "cell_type": "code",
   "execution_count": 44,
   "metadata": {},
   "outputs": [
    {
     "name": "stdout",
     "output_type": "stream",
     "text": [
      "your number is odd\n",
      "your number is both divisible by 5 and is odd\n"
     ]
    }
   ],
   "source": [
    "number = float(input(\"input a random number: \"))\n",
    "\n",
    "if number % 2:\n",
    "    print(\"your number is odd\")\n",
    "else:\n",
    "    print(\"your number is even\")\n",
    "\n",
    "if number % 5 == 0 and number %2 == 0:\n",
    "    print(\"your number is divisible by 5\")\n",
    "elif number % 5 == 0 and number % 2:\n",
    "    print(\"your number is both divisible by 5 and is odd\")"
   ]
  },
  {
   "cell_type": "markdown",
   "metadata": {},
   "source": [
    "---\n",
    "## 6. Luggage size (*)\n",
    "\n",
    "The maximum allowed luggage size for boarding an airplane is: \n",
    "- weight: 8kg\n",
    "- dimensions: 55x40x23cm (length x width x height) \n",
    "\n",
    "Let the user input weight, length, width and height of the luggage. The program should check if the luggage is allowed or not."
   ]
  },
  {
   "cell_type": "code",
   "execution_count": 46,
   "metadata": {},
   "outputs": [
    {
     "name": "stdout",
     "output_type": "stream",
     "text": [
      "you cant bring your luggage onboard\n"
     ]
    }
   ],
   "source": [
    "weight = float(input(\"Enter your luggage weight\"))\n",
    "length = float(input(\"Enter your luggage length\"))\n",
    "width = float(input(\"Enter your luggage width\"))\n",
    "height = float(input(\"Enter your luggage height\"))\n",
    "\n",
    "if weight < 8 and length < 55 and width < 40 and height < 23:\n",
    "    print(\"you can bring you luggage onboard\")\n",
    "else:\n",
    "    print(\"you cant bring your luggage onboard\")"
   ]
  }
 ],
 "metadata": {
  "kernelspec": {
   "display_name": "Python 3",
   "language": "python",
   "name": "python3"
  },
  "language_info": {
   "codemirror_mode": {
    "name": "ipython",
    "version": 3
   },
   "file_extension": ".py",
   "mimetype": "text/x-python",
   "name": "python",
   "nbconvert_exporter": "python",
   "pygments_lexer": "ipython3",
   "version": "3.11.5"
  },
  "orig_nbformat": 4
 },
 "nbformat": 4,
 "nbformat_minor": 2
}
