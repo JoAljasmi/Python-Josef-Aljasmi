{
 "cells": [
  {
   "cell_type": "markdown",
   "metadata": {},
   "source": [
    "## 1)"
   ]
  },
  {
   "cell_type": "code",
   "execution_count": 7,
   "metadata": {},
   "outputs": [
    {
     "name": "stdout",
     "output_type": "stream",
     "text": [
      "2\n"
     ]
    }
   ],
   "source": [
    "Inputted_word = input(\"Write any word you would like: \")\n",
    "\n",
    "\n",
    "print(len(Inputted_word))"
   ]
  },
  {
   "cell_type": "code",
   "execution_count": 9,
   "metadata": {},
   "outputs": [
    {
     "name": "stdout",
     "output_type": "stream",
     "text": [
      "the amount of lower cased letters you have put in is 0 whilst the amount of uppercase words u have put in is 7\n"
     ]
    }
   ],
   "source": [
    "Inputted_word = input(\"Write any word you would like: \")\n",
    "\n",
    "lowercase_word = 0\n",
    "uppercase_word = 0\n",
    "\n",
    "for char in Inputted_word:\n",
    "    if char.islower():\n",
    "        lowercase_word += 1\n",
    "    elif char.isupper():\n",
    "        uppercase_word += 1\n",
    "\n",
    "print(f\"the amount of lower cased letters you have put in is {lowercase_word} whilst the amount of uppercase words u have put in is {uppercase_word}\")\n",
    "    "
   ]
  },
  {
   "cell_type": "markdown",
   "metadata": {},
   "source": [
    "## 2)"
   ]
  },
  {
   "cell_type": "code",
   "execution_count": 18,
   "metadata": {},
   "outputs": [
    {
     "name": "stdout",
     "output_type": "stream",
     "text": [
      "please write both your first and last name\n"
     ]
    }
   ],
   "source": [
    "fullname = input(\"Write down your full name\")\n",
    "\n",
    "splitnames = fullname.split()\n",
    "\n",
    "if len(splitnames)>= 2:\n",
    "    firstname = splitnames[0]\n",
    "    lastname = splitnames[-1]\n",
    "    print(f\"Firstname: {firstname}\\nLastname: {lastname}\")\n",
    "else:\n",
    "    print(\"please write both your first and last name\")\n",
    "\n",
    "\n",
    "\n",
    "\n",
    "\n"
   ]
  },
  {
   "cell_type": "markdown",
   "metadata": {},
   "source": [
    "## 3)"
   ]
  },
  {
   "cell_type": "code",
   "execution_count": 20,
   "metadata": {},
   "outputs": [
    {
     "name": "stdout",
     "output_type": "stream",
     "text": [
      "there are 17 words in that sentence\n"
     ]
    }
   ],
   "source": [
    "word = \"A picture says more than a thousand words, a matematical formula says more than a thousand pictures.\"\n",
    "splittedword = word.split()\n",
    "\n",
    "print(f\"there are {len(splittedword)} words in that sentence\")"
   ]
  },
  {
   "cell_type": "markdown",
   "metadata": {},
   "source": [
    "## 4)"
   ]
  },
  {
   "cell_type": "code",
   "execution_count": 51,
   "metadata": {},
   "outputs": [
    {
     "name": "stdout",
     "output_type": "stream",
     "text": [
      "is name my hi\n"
     ]
    }
   ],
   "source": [
    "word = input(\"input a sentence: \")\n",
    "splittedword = word.split()\n",
    "splittedword.reverse()\n",
    "reversed_sentence = \" \".join(splittedword)\n",
    "\n",
    "print(reversed_sentence)"
   ]
  },
  {
   "cell_type": "code",
   "execution_count": 57,
   "metadata": {},
   "outputs": [
    {
     "name": "stdout",
     "output_type": "stream",
     "text": [
      "What name your is\n"
     ]
    }
   ],
   "source": [
    "word = input(\"input a sentence: \")\n",
    "splittedword = word.split()\n",
    "reversedwords = [splittedword[0].capitalize()] + splittedword[-1:0:-1]\n",
    "reversed_sentence = \" \".join(reversedwords)\n",
    "\n",
    "print(reversed_sentence)"
   ]
  }
 ],
 "metadata": {
  "kernelspec": {
   "display_name": "base",
   "language": "python",
   "name": "python3"
  },
  "language_info": {
   "codemirror_mode": {
    "name": "ipython",
    "version": 3
   },
   "file_extension": ".py",
   "mimetype": "text/x-python",
   "name": "python",
   "nbconvert_exporter": "python",
   "pygments_lexer": "ipython3",
   "version": "3.10.9"
  }
 },
 "nbformat": 4,
 "nbformat_minor": 2
}
