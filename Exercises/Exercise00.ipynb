{
 "cells": [
  {
   "cell_type": "markdown",
   "metadata": {},
   "source": [
    "# Excersie 0"
   ]
  },
  {
   "cell_type": "markdown",
   "metadata": {},
   "source": [
    "\n",
    "## 1. Pythagorean theorem"
   ]
  },
  {
   "cell_type": "code",
   "execution_count": 7,
   "metadata": {},
   "outputs": [
    {
     "name": "stdout",
     "output_type": "stream",
     "text": [
      "5.0\n"
     ]
    }
   ],
   "source": [
    "# A right angled triangle has the catheti: a = 3 and b = 4 length units. Compute the hypothenuse of the triangle.\n",
    "import math\n",
    "a = 3\n",
    "b = 4\n",
    "c = a**2 + b**2\n",
    "c = math.sqrt(c)\n",
    "print(c)\n"
   ]
  },
  {
   "cell_type": "code",
   "execution_count": 14,
   "metadata": {},
   "outputs": [
    {
     "name": "stdout",
     "output_type": "stream",
     "text": [
      "4.9\n"
     ]
    }
   ],
   "source": [
    "# A right angled triangle has hypothenuse c = 7.0 and a cathetus a = 5.0 length units. Compute the other cathetus and round to one decimal\n",
    "import math\n",
    "c = 7.0\n",
    "a = 5.0\n",
    "\n",
    "d = c**2 - a**2\n",
    "b = math.sqrt(d)\n",
    "\n",
    "print(f\"{b:.1f}\")"
   ]
  },
  {
   "cell_type": "markdown",
   "metadata": {},
   "source": [
    "## 2. Classification accuracy\n"
   ]
  },
  {
   "cell_type": "code",
   "execution_count": 26,
   "metadata": {},
   "outputs": [
    {
     "name": "stdout",
     "output_type": "stream",
     "text": [
      "82.19%\n"
     ]
    }
   ],
   "source": [
    "t_amount = 365 \n",
    "c_amount = 300 \n",
    "x = c_amount/t_amount \n",
    "print(f\"{x:2%}\")"
   ]
  },
  {
   "cell_type": "markdown",
   "metadata": {},
   "source": [
    "## 3. Classification accuracy"
   ]
  },
  {
   "cell_type": "code",
   "execution_count": 28,
   "metadata": {},
   "outputs": [
    {
     "name": "stdout",
     "output_type": "stream",
     "text": [
      "98.7%\n"
     ]
    }
   ],
   "source": [
    "\n",
    "tp = 2\n",
    "fp = 2\n",
    "fn = 11\n",
    "tn = 985\n",
    "\n",
    "# formula is tp+tn/tp+tn+fp+fn\n",
    "\n",
    "accuracy = (2 + 985) / (2 + 985 + 2 + 11)\n",
    "print(f\"{accuracy:.1%}\")\n"
   ]
  },
  {
   "cell_type": "markdown",
   "metadata": {},
   "source": [
    "## 4. Line"
   ]
  },
  {
   "cell_type": "code",
   "execution_count": 29,
   "metadata": {},
   "outputs": [
    {
     "name": "stdout",
     "output_type": "stream",
     "text": [
      "k = 0.75\n",
      "m = 1\n",
      "y = 0.75x + 1\n"
     ]
    }
   ],
   "source": [
    "x1 = 4 \n",
    "x2 = 0  \n",
    "y1 = 4 \n",
    "y2 = 1  \n",
    "\n",
    "k = (y2 - y1) / (x2 - x1)\n",
    "\n",
    "m = 1\n",
    "\n",
    "print(f\"k = {k}\")\n",
    "print(f\"m = {m}\")\n",
    "print(f\"y = {k}x + {m}\")\n",
    "\n"
   ]
  },
  {
   "cell_type": "markdown",
   "metadata": {},
   "source": [
    "## 5. Euclidean distance"
   ]
  },
  {
   "cell_type": "code",
   "execution_count": 31,
   "metadata": {},
   "outputs": [
    {
     "name": "stdout",
     "output_type": "stream",
     "text": [
      "The distance is around 5.1 length units.\n"
     ]
    }
   ],
   "source": [
    "import math\n",
    "\n",
    "x1 = 3\n",
    "x2 = -2\n",
    "y1 = 5\n",
    "y2 = 4\n",
    "\n",
    "d = math.sqrt((x2-x1)**2 + (y2-y1)**2)\n",
    "print(f\"The distance is around {d:.1f} length units.\")\n"
   ]
  },
  {
   "cell_type": "markdown",
   "metadata": {},
   "source": [
    "## Euclidean distance in 3D"
   ]
  },
  {
   "cell_type": "code",
   "execution_count": 2,
   "metadata": {},
   "outputs": [
    {
     "name": "stdout",
     "output_type": "stream",
     "text": [
      "The distance is around 4.12 l.u.\n"
     ]
    }
   ],
   "source": [
    "import math\n",
    "\n",
    "x1 = 2\n",
    "x2 = 3\n",
    "y1 = 1\n",
    "y2 = 1\n",
    "z1 = 4\n",
    "z2 = 0\n",
    "\n",
    "d = math.sqrt((x2 - x1)**2 + (y2 - y1)**2 + (z2 - z1)**2)\n",
    "print(f\"The distance is around {d:.2f} l.u.\")"
   ]
  }
 ],
 "metadata": {
  "kernelspec": {
   "display_name": "base",
   "language": "python",
   "name": "python3"
  },
  "language_info": {
   "codemirror_mode": {
    "name": "ipython",
    "version": 3
   },
   "file_extension": ".py",
   "mimetype": "text/x-python",
   "name": "python",
   "nbconvert_exporter": "python",
   "pygments_lexer": "ipython3",
   "version": "3.10.9"
  },
  "orig_nbformat": 4
 },
 "nbformat": 4,
 "nbformat_minor": 2
}
