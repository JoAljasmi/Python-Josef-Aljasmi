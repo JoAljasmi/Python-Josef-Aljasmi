{
 "cells": [
  {
   "cell_type": "markdown",
   "metadata": {},
   "source": [
    "## 1)"
   ]
  },
  {
   "cell_type": "code",
   "execution_count": 2,
   "metadata": {},
   "outputs": [
    {
     "name": "stdout",
     "output_type": "stream",
     "text": [
      "-10\n",
      "-9\n",
      "-8\n",
      "-7\n",
      "-6\n",
      "-5\n",
      "-4\n",
      "-3\n",
      "-2\n",
      "-1\n",
      "0\n",
      "1\n",
      "2\n",
      "3\n",
      "4\n",
      "5\n",
      "6\n",
      "7\n",
      "8\n",
      "9\n",
      "10\n"
     ]
    }
   ],
   "source": [
    "#A)\n",
    "for i in range(-10, 11):\n",
    "    print(i)"
   ]
  },
  {
   "cell_type": "code",
   "execution_count": 4,
   "metadata": {},
   "outputs": [
    {
     "name": "stdout",
     "output_type": "stream",
     "text": [
      "-10\n",
      "-8\n",
      "-6\n",
      "-4\n",
      "-2\n",
      "0\n",
      "2\n",
      "4\n",
      "6\n",
      "8\n",
      "10\n"
     ]
    }
   ],
   "source": [
    "#B)\n",
    "for i in range(-10, 11, 2):\n",
    "    print(i)"
   ]
  },
  {
   "cell_type": "markdown",
   "metadata": {},
   "source": [
    "## 2)"
   ]
  },
  {
   "cell_type": "code",
   "execution_count": 24,
   "metadata": {},
   "outputs": [
    {
     "name": "stdout",
     "output_type": "stream",
     "text": [
      "5050\n"
     ]
    }
   ],
   "source": [
    "\n",
    "addedNum = 0\n",
    "\n",
    "for i in range(101):\n",
    "    addedNum = addedNum + i\n",
    "    \n",
    "\n",
    "print(addedNum)\n",
    "\n",
    "  \n",
    "\n",
    "   \n",
    "\n"
   ]
  },
  {
   "cell_type": "code",
   "execution_count": 25,
   "metadata": {},
   "outputs": [
    {
     "name": "stdout",
     "output_type": "stream",
     "text": [
      "2500\n"
     ]
    }
   ],
   "source": [
    "addedNum = 0\n",
    "\n",
    "for i in range(1,101,2):\n",
    "    addedNum = addedNum + i\n",
    "    \n",
    "\n",
    "print(addedNum)\n"
   ]
  },
  {
   "cell_type": "markdown",
   "metadata": {},
   "source": [
    "## 3)"
   ]
  },
  {
   "cell_type": "code",
   "execution_count": 28,
   "metadata": {},
   "outputs": [
    {
     "name": "stdout",
     "output_type": "stream",
     "text": [
      "0\n",
      "6\n",
      "12\n",
      "18\n",
      "24\n",
      "30\n",
      "36\n",
      "42\n",
      "48\n",
      "54\n",
      "60\n"
     ]
    }
   ],
   "source": [
    "num = 6\n",
    "for i in range(11):\n",
    "    newnum = num * i\n",
    "    print(newnum)"
   ]
  },
  {
   "cell_type": "code",
   "execution_count": 34,
   "metadata": {},
   "outputs": [
    {
     "name": "stdout",
     "output_type": "stream",
     "text": [
      "0\n",
      "6\n",
      "12\n",
      "18\n",
      "24\n",
      "30\n",
      "36\n",
      "42\n",
      "48\n",
      "54\n",
      "60\n"
     ]
    }
   ],
   "source": [
    "num = int(input(\"Which table are you interested in? \"))\n",
    "specify_start = int(input(\"Specify start of table: \"))\n",
    "specify_end = int(input(\"Specify end of table: \"))\n",
    "\n",
    "for i in range(specify_start, specify_end + 1):\n",
    "    newnum = num * i\n",
    "    print(newnum)"
   ]
  },
  {
   "cell_type": "code",
   "execution_count": 64,
   "metadata": {},
   "outputs": [
    {
     "name": "stdout",
     "output_type": "stream",
     "text": [
      " 0    0   0   0   0   0   0   0   0   0   0   0\n",
      " 1    0   1   2   3   4   5   6   7   8   9  10\n",
      " 2    0   2   4   6   8  10  12  14  16  18  20\n",
      " 3    0   3   6   9  12  15  18  21  24  27  30\n",
      " 4    0   4   8  12  16  20  24  28  32  36  40\n",
      " 5    0   5  10  15  20  25  30  35  40  45  50\n",
      " 6    0   6  12  18  24  30  36  42  48  54  60\n",
      " 7    0   7  14  21  28  35  42  49  56  63  70\n",
      " 8    0   8  16  24  32  40  48  56  64  72  80\n",
      " 9    0   9  18  27  36  45  54  63  72  81  90\n",
      "10    0  10  20  30  40  50  60  70  80  90 100\n"
     ]
    }
   ],
   "source": [
    "for i in range(11):\n",
    "    print(f\"{i:2} \", end=\"\")\n",
    "    for j in range(11):\n",
    "        product = i * j\n",
    "        print(f\"{product:4}\", end=\"\")\n",
    "    print()"
   ]
  },
  {
   "cell_type": "markdown",
   "metadata": {},
   "source": [
    "## 4)"
   ]
  },
  {
   "cell_type": "code",
   "execution_count": 76,
   "metadata": {},
   "outputs": [
    {
     "name": "stdout",
     "output_type": "stream",
     "text": [
      "4! = 24\n"
     ]
    }
   ],
   "source": [
    "n = int(input(\"Enter a non-negative integer n: \"))\n",
    "result = 1\n",
    "\n",
    "for i in range(1, n + 1):\n",
    "    result *= i\n",
    "\n",
    "print(f\"{n}! = {result}\")\n",
    "\n",
    "\n"
   ]
  },
  {
   "cell_type": "markdown",
   "metadata": {},
   "source": [
    "## 5)"
   ]
  },
  {
   "cell_type": "code",
   "execution_count": 94,
   "metadata": {},
   "outputs": [
    {
     "name": "stdout",
     "output_type": "stream",
     "text": [
      "8807\n",
      "this is the computer output 8807\n"
     ]
    }
   ],
   "source": [
    "from random import randint\n",
    "\n",
    "ranomized_num = int(randint(1000,9999))\n",
    "\n",
    "for i in range(ranomized_num + 1):\n",
    "    i = int(randint(1000,9999))\n",
    "    \n",
    "\n",
    "    if i == ranomized_num:\n",
    "        break\n",
    "print(i)\n",
    "\n",
    "print(f\"this is the computer output {ranomized_num}\")"
   ]
  },
  {
   "cell_type": "code",
   "execution_count": 103,
   "metadata": {},
   "outputs": [
    {
     "name": "stdout",
     "output_type": "stream",
     "text": [
      "18446744073709551615\n"
     ]
    }
   ],
   "source": [
    "total_grain = sum(2**i for i in range(64))\n",
    "print(total_grain)"
   ]
  }
 ],
 "metadata": {
  "kernelspec": {
   "display_name": "base",
   "language": "python",
   "name": "python3"
  },
  "language_info": {
   "codemirror_mode": {
    "name": "ipython",
    "version": 3
   },
   "file_extension": ".py",
   "mimetype": "text/x-python",
   "name": "python",
   "nbconvert_exporter": "python",
   "pygments_lexer": "ipython3",
   "version": "3.10.9"
  },
  "orig_nbformat": 4
 },
 "nbformat": 4,
 "nbformat_minor": 2
}
