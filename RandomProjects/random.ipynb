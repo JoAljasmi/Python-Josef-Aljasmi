{
 "cells": [
  {
   "cell_type": "code",
   "execution_count": 1,
   "id": "initial_id",
   "metadata": {
    "collapsed": true,
    "ExecuteTime": {
     "end_time": "2023-10-16T16:42:44.701008900Z",
     "start_time": "2023-10-16T16:42:44.680005300Z"
    }
   },
   "outputs": [
    {
     "name": "stdout",
     "output_type": "stream",
     "text": [
      "e\n"
     ]
    }
   ],
   "source": [
    "frukter = [\"jordgubbe\", \"vindruva\", \"grape\"]\n",
    "godfrukt = frukter[2]\n",
    "print(godfrukt[-1])\n"
   ]
  },
  {
   "cell_type": "code",
   "execution_count": 4,
   "outputs": [
    {
     "name": "stdout",
     "output_type": "stream",
     "text": [
      "25.132741228718345\n"
     ]
    }
   ],
   "source": [
    "import math\n",
    "try:\n",
    "    Radius = int(input(\"input a radius: \"))\n",
    "    Height = int(input(\"input a height: \"))\n",
    "except:\n",
    "    print(\"Please input a number\")\n",
    "    \n",
    "print(math.pi * Radius**2 * Height)"
   ],
   "metadata": {
    "collapsed": false,
    "ExecuteTime": {
     "end_time": "2023-10-16T16:47:34.472572200Z",
     "start_time": "2023-10-16T16:47:29.567708100Z"
    }
   },
   "id": "e869511e1f92e760"
  },
  {
   "cell_type": "code",
   "execution_count": 5,
   "outputs": [
    {
     "name": "stdout",
     "output_type": "stream",
     "text": [
      "167033\n",
      "166378\n",
      "167014\n",
      "166729\n",
      "166601\n",
      "166245\n"
     ]
    }
   ],
   "source": [
    "from random import randint\n",
    "\n",
    "counter = 0\n",
    "roll1 = 0\n",
    "roll2 = 0\n",
    "roll3 = 0\n",
    "roll4 = 0\n",
    "roll5 = 0\n",
    "roll6 = 0\n",
    "while counter != 1000000:\n",
    "    diceroll = randint(1, 6)\n",
    "    if diceroll == 1:\n",
    "        roll1 += 1\n",
    "    elif diceroll == 2:\n",
    "        roll2 += 1\n",
    "    elif diceroll == 3:\n",
    "        roll3 += 1\n",
    "    elif diceroll == 4:\n",
    "        roll4 += 1\n",
    "    elif diceroll == 5:\n",
    "        roll5 += 1\n",
    "    elif diceroll == 6:\n",
    "        roll6 += 1\n",
    "    \n",
    "    counter += 1\n",
    "    \n",
    "    \n",
    "print(roll1)\n",
    "print(roll2)\n",
    "print(roll3)\n",
    "print(roll4)\n",
    "print(roll5)\n",
    "print(roll6)\n",
    "        \n",
    "       \n",
    "       "
   ],
   "metadata": {
    "collapsed": false,
    "ExecuteTime": {
     "end_time": "2023-10-16T16:54:33.840971900Z",
     "start_time": "2023-10-16T16:54:32.837794900Z"
    }
   },
   "id": "320f8c6fd45e6445"
  },
  {
   "cell_type": "code",
   "execution_count": 23,
   "outputs": [
    {
     "name": "stdout",
     "output_type": "stream",
     "text": [
      "x x x x x x x x x \n",
      "x o x o x o x o x \n",
      "x x x x x x x x x \n",
      "x o x o x o x o x \n",
      "x x x x x x x x x \n",
      "x o x o x o x o x \n",
      "x x x x x x x x x \n",
      "x o x o x o x o x \n",
      "x x x x x x x x x \n"
     ]
    }
   ],
   "source": [
    "try:\n",
    "    n = int(input(\"type any number: \"))\n",
    "except:\n",
    "    print(\"write a number: \")\n",
    "    \n",
    "for i in range(1, n+1):\n",
    "    for j in range(1,n+1):\n",
    "        if i % 2 == 1:\n",
    "            print(\"x\", end=\" \")\n",
    "        elif j % 2 == 1:\n",
    "            print(\"x\", end=\" \")\n",
    "        else:\n",
    "            print(\"o\", end= \" \")\n",
    "    \n",
    "    print()\n",
    "        \n",
    "\n",
    "            "
   ],
   "metadata": {
    "collapsed": false,
    "ExecuteTime": {
     "end_time": "2023-10-16T21:51:05.094096900Z",
     "start_time": "2023-10-16T21:51:03.953395700Z"
    }
   },
   "id": "e5d2bd757f14f3a6"
  },
  {
   "cell_type": "code",
   "execution_count": 18,
   "outputs": [
    {
     "name": "stdout",
     "output_type": "stream",
     "text": [
      "x x x x x \n",
      "x o x o x \n",
      "x x x x x \n",
      "x o x o x \n",
      "x x x x x \n"
     ]
    }
   ],
   "source": [
    "def print_pattern(n):\n",
    "    for i in range(1, n + 1):\n",
    "        for j in range(1, n + 1):\n",
    "            if i % 2 == 1:\n",
    "                print(\"x \", end=\"\")\n",
    "            else:\n",
    "                if j % 2 == 1:\n",
    "                    print(\"x \", end=\"\")\n",
    "                else:\n",
    "                    print(\"o \", end=\"\")\n",
    "        print()\n",
    "\n",
    "# Example with n = 5\n",
    "print_pattern(5)"
   ],
   "metadata": {
    "collapsed": false,
    "ExecuteTime": {
     "end_time": "2023-10-16T21:48:47.548858300Z",
     "start_time": "2023-10-16T21:48:47.539859Z"
    }
   },
   "id": "83e649e1b220e573"
  },
  {
   "cell_type": "code",
   "execution_count": 1,
   "outputs": [
    {
     "name": "stdout",
     "output_type": "stream",
     "text": [
      "Amount: $5099999.00\n",
      "50999 100 Dollar Bill\n",
      "1 50 Dollar Bill\n",
      "2 20 Dollar Bill\n",
      "1 5 Dollar Bill\n",
      "4 1 Dollar Bill\n"
     ]
    }
   ],
   "source": [
    "def calculate_bills_and_coins(amount):\n",
    "    denominations = {\n",
    "        \"100 Dollar Bill\": 100.0,\n",
    "        \"50 Dollar Bill\": 50.0,\n",
    "        \"20 Dollar Bill\": 20.0,\n",
    "        \"10 Dollar Bill\": 10.0,\n",
    "        \"5 Dollar Bill\": 5.0,\n",
    "        \"1 Dollar Bill\": 1.0,\n",
    "        \"Quarter\": 0.25,\n",
    "        \"Dime\": 0.1,\n",
    "        \"Nickel\": 0.05,\n",
    "        \"Penny\": 0.01,\n",
    "    }\n",
    "\n",
    "    print(f\"Amount: ${amount:.2f}\")\n",
    "    for denomination, value in denominations.items():\n",
    "        count = int(amount // value)\n",
    "        if count > 0:\n",
    "            print(f\"{count} {denomination}\")\n",
    "            amount -= count * value\n",
    "\n",
    "# Allow the user to input the price\n",
    "price = float(input(\"Enter the price: \"))\n",
    "calculate_bills_and_coins(price)"
   ],
   "metadata": {
    "collapsed": false,
    "ExecuteTime": {
     "end_time": "2023-10-17T14:22:41.291166400Z",
     "start_time": "2023-10-17T14:22:36.259779700Z"
    }
   },
   "id": "5e5b0b1da059a4ab"
  },
  {
   "cell_type": "code",
   "execution_count": null,
   "outputs": [],
   "source": [],
   "metadata": {
    "collapsed": false
   },
   "id": "44584019518609cc"
  }
 ],
 "metadata": {
  "kernelspec": {
   "display_name": "Python 3",
   "language": "python",
   "name": "python3"
  },
  "language_info": {
   "codemirror_mode": {
    "name": "ipython",
    "version": 2
   },
   "file_extension": ".py",
   "mimetype": "text/x-python",
   "name": "python",
   "nbconvert_exporter": "python",
   "pygments_lexer": "ipython2",
   "version": "2.7.6"
  }
 },
 "nbformat": 4,
 "nbformat_minor": 5
}
