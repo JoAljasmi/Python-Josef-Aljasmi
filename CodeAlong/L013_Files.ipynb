{
 "cells": [
  {
   "cell_type": "markdown",
   "metadata": {},
   "source": [
    "# Load and save data to files\n",
    "\n",
    "We can catogorize files in to 2 main catergories, text files, and binary files.\n",
    "- Text files stores text / characters in a human readable format.\n",
    "0 Binary files stores byte data (1's and 0's) that only computers understand.\n",
    "\n",
    "\n",
    "## Common text based files to store data\n",
    "- **.txt** plain english (or other language) text.\n",
    "- **.csv** Comma separated values\n",
    "- .json\n",
    "\n",
    "## File names and file paths\n",
    "\n",
    "A file name usually has two parts, the name, and the file extenstion, separated with a dot (name.extension)\n",
    "\n",
    "e.g.  hello.txt, data.json, myimage.jpg\n",
    "\n",
    "paths can be expressed as either relative or absolute:\n",
    "- **Absolute:** Full path to access a file or folder. Ex. c:\\users\\josef\\desktop\\myfile.txt\n",
    "- **Relative:** Relative from the current active folder: data\\data.json\n",
    "\n",
    "## File modes\n",
    "it's possible to open a file in python in different modes:\n",
    "- **'r':** for reading \n",
    "- **'w':** for writing\n",
    "- **'a':** for appending (also writing, but keeps existing content and append new content at end of file)"
   ]
  },
  {
   "cell_type": "markdown",
   "metadata": {},
   "source": [
    "## Open file for reading"
   ]
  },
  {
   "cell_type": "code",
   "execution_count": 3,
   "metadata": {},
   "outputs": [
    {
     "name": "stdout",
     "output_type": "stream",
     "text": [
      "Hello world!\n",
      "\n",
      "This is an example text file that we can try to \n",
      "load into our python application\n"
     ]
    }
   ],
   "source": [
    "file = open(\"..\\\\data\\\\hello.txt\")\n",
    "\n",
    "content = file.read()\n",
    "\n",
    "print(content)\n",
    "\n",
    "file.close()"
   ]
  },
  {
   "cell_type": "markdown",
   "metadata": {},
   "source": [
    "## Open with context managment"
   ]
  },
  {
   "cell_type": "code",
   "execution_count": null,
   "metadata": {},
   "outputs": [],
   "source": [
    "with open(\"..\\\\data\\\\hello.txt\") as file:\n",
    "    content = file.read()\n",
    "    print(content)\n",
    "\n"
   ]
  },
  {
   "cell_type": "markdown",
   "metadata": {},
   "source": [
    "## Open file for writing"
   ]
  },
  {
   "cell_type": "code",
   "execution_count": 9,
   "metadata": {},
   "outputs": [],
   "source": [
    "new_content = input(\"Enter text: \")\n",
    "\n",
    "with open(\"..\\\\data\\\\hello.txt\", \"a\") as file:\n",
    "    file.write(new_content + '\\n')\n",
    "\n"
   ]
  },
  {
   "cell_type": "markdown",
   "metadata": {},
   "source": [
    "## Mini-uppgift\n",
    "\n",
    "Skapa ett program som har en tom lista. När programmet körs får användaren mata in namn (input) i en loop tills användaren matar in en tom rad. När den är klar så skriva alla namn ut på skärmen, samt sparas till en fil (med ett namn på varje rad). Nästa gång man starta programmet så läser den in de befintliga namnen"
   ]
  },
  {
   "cell_type": "code",
   "execution_count": 10,
   "metadata": {},
   "outputs": [
    {
     "name": "stdout",
     "output_type": "stream",
     "text": [
      "names: \n",
      "josef\n",
      "patrick\n",
      "lesbon\n",
      "Names are saved!\n"
     ]
    }
   ],
   "source": [
    "with open(\"..\\\\data\\\\namelist.txt\", \"r\") as file:\n",
    "    names = file.readlines()\n",
    "\n",
    "\n",
    "while True:\n",
    "    name = input(\"Enter name: \")\n",
    "    if not name: break\n",
    "    names.append(name)\n",
    "\n",
    "print(\"names: \")\n",
    "\n",
    "for name in names:\n",
    "    print(name)\n",
    "\n",
    "    with open(\"..\\\\data\\\\namelist.txt\", \"w\") as file:\n",
    "        for name in names:\n",
    "            file.write(name + '\\n')\n",
    "\n",
    "print(\"Names are saved!\")\n",
    "\n"
   ]
  },
  {
   "cell_type": "markdown",
   "metadata": {},
   "source": [
    "## Write .csv file"
   ]
  },
  {
   "cell_type": "code",
   "execution_count": 5,
   "metadata": {},
   "outputs": [
    {
     "name": "stdout",
     "output_type": "stream",
     "text": [
      "[{'name': 'adam', 'class': 'AI23', 'email': 'adam@gmail.com'}, {'name': 'kalle', 'class': 'AI23', 'email': 'kalle@gmail.com'}, {'name': 'eva', 'class': 'AI23', 'email': 'eva@gmail.com'}]\n"
     ]
    }
   ],
   "source": [
    "students = [\n",
    "    {\n",
    "        \"name\": \"adam\",\n",
    "        \"class\" : \"AI23\",\n",
    "        \"email\": \"adam@gmail.com\"\n",
    "    },   \n",
    "    {\n",
    "        \"name\": \"kalle\", \n",
    "        \"class\" : \"AI23\", \n",
    "        \"email\": \"kalle@gmail.com\"}, \n",
    "    {\n",
    "        \"name\": \"eva\", \n",
    "        \"class\" : \"AI23\", \n",
    "        \"email\": \"eva@gmail.com\"\n",
    "    }  \n",
    "]\n",
    "\n",
    "print(students)\n",
    "\n",
    "with open(\"../data/students.csv\", \"w\") as file:\n",
    "    for student in students:\n",
    "        file.write(f\"{student['name']}, {student['class']}, {student['email']}\\n\")"
   ]
  },
  {
   "cell_type": "markdown",
   "metadata": {},
   "source": [
    "## Using csv package"
   ]
  },
  {
   "cell_type": "code",
   "execution_count": 13,
   "metadata": {},
   "outputs": [
    {
     "name": "stdout",
     "output_type": "stream",
     "text": [
      "[{'name': 'adam', 'class': ' AI23', 'email': ' adam@gmail.com'}, {'name': 'kalle', 'class': ' AI23', 'email': ' kalle@gmail.com'}, {'name': 'eva', 'class': ' AI23', 'email': ' eva@gmail.com'}]\n"
     ]
    }
   ],
   "source": [
    "import csv\n",
    "\n",
    "students = []\n",
    "\n",
    "with open(\"../data/students.csv\") as file:\n",
    "    reader = csv.DictReader(file)\n",
    "\n",
    "    for row in reader:\n",
    "        \n",
    "        students.append({\"name\": row[\"name\"], \"class\": row[\"class\"], \"email\": row[\"email\"]})\n",
    "\n",
    "print(students)\n",
    "    \n"
   ]
  },
  {
   "cell_type": "markdown",
   "metadata": {},
   "source": [
    "## Json serialization and deserialization"
   ]
  },
  {
   "cell_type": "code",
   "execution_count": 11,
   "metadata": {},
   "outputs": [],
   "source": [
    "import json\n",
    "\n",
    "teacher = {\n",
    "    \"firstname\": \"Josef\",\n",
    "    \"lastname\": \"Aljasmi\",\n",
    "    \"age\": 21,\n",
    "    \"languages\": [\"Python\", \"C#\", \"Javascript\"],\n",
    "    \"contactinfo\": {\n",
    "        \"phone\": \"0704504080\",\n",
    "        \"email\": [\n",
    "            \"josef@gmail.com\",\n",
    "            \"josef@hotmail.com\",\n",
    "            \"josefaljasmi@gmail.com\"\n",
    "            ]\n",
    "    }\n",
    "}\n",
    "\n",
    "serialized_data = json.dumps(teacher, indent = 4)\n",
    "\n",
    "# print(serialized_data)\n",
    "with open(\"../data/teacher.json\", \"w\") as file:\n",
    "    file.write(serialized_data)"
   ]
  },
  {
   "cell_type": "code",
   "execution_count": 10,
   "metadata": {},
   "outputs": [
    {
     "name": "stdout",
     "output_type": "stream",
     "text": [
      "{'firstname': 'Josef', 'lastname': 'Aljasmi', 'age': 22, 'languages': ['Python', 'C#', 'Javascript'], 'contactinfo': {'phone': '0704504080', 'email': ['josef@gmail.com', 'josef@hoymail.com', 'josefaljasmi@gmail.com']}}\n"
     ]
    }
   ],
   "source": [
    "with open(\"../data/teacher.json\", \"r\") as file:\n",
    "    data = file.read()\n",
    "teacher = json.loads(data)\n",
    "print(teacher)"
   ]
  }
 ],
 "metadata": {
  "kernelspec": {
   "display_name": "base",
   "language": "python",
   "name": "python3"
  },
  "language_info": {
   "codemirror_mode": {
    "name": "ipython",
    "version": 3
   },
   "file_extension": ".py",
   "mimetype": "text/x-python",
   "name": "python",
   "nbconvert_exporter": "python",
   "pygments_lexer": "ipython3",
   "version": "3.10.9"
  },
  "orig_nbformat": 4
 },
 "nbformat": 4,
 "nbformat_minor": 2
}
