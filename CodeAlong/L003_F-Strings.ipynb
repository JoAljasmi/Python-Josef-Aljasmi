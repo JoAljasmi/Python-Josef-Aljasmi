{
 "cells": [
  {
   "cell_type": "markdown",
   "metadata": {},
   "source": [
    "# f-strings (Fromatted string literals)\n",
    "- literal starts with f or F\n",
    "- variables or expressions can be inserted using {}\n",
    "- use = after expression to print expression and result (not only result)\n",
    "- quotes can be used inside expression as long as they differ from the quotetype of the f string\n",
    "- For padding and alignment, use : **{padding character (default space)} {width}{alignment}**\n",
    "- Alignments: Left <, center ^, Right >, Default alignments left for string, right for numerics\n",
    "- Data type: Add data type after padding and alignment eg: x:<20.2f\n",
    "- Data type formats: Fixed-point notation(f), Exponent notation (e), Percentage(%). (Default precision is 6)\n",
    "- Use comma for thousands seperation eg: (1000:,) or (1000:,.2f)"
   ]
  },
  {
   "cell_type": "code",
   "execution_count": 2,
   "metadata": {},
   "outputs": [
    {
     "name": "stdout",
     "output_type": "stream",
     "text": [
      "Hello jj!\n",
      "5+8=13\n",
      "\"Hej jj\"\n",
      "'Hej jj'\n",
      "\"Hej \"jj\"\n",
      "3.00\n",
      "0.78\n",
      "1,000,000.00\n"
     ]
    }
   ],
   "source": [
    "name = input(\"Enter your name: \") \n",
    "myString = f\"Hello {name}!\"\n",
    "print(myString)\n",
    "\n",
    "print(f\"{5+8=}\")\n",
    "\n",
    "print(f'\"Hej {name}\"')\n",
    "print(f\"'Hej {name}'\")\n",
    "print(f'\"Hej \\\"{name}\"')\n",
    "\n",
    "print(f\"{3:.2f}\")\n",
    "\n",
    "print(f\"{0.78:.2f}\")\n",
    "print(f\"{1000000:,.2f}\")"
   ]
  },
  {
   "cell_type": "code",
   "execution_count": 3,
   "metadata": {},
   "outputs": [
    {
     "name": "stdout",
     "output_type": "stream",
     "text": [
      "first_name          aljasmi\n",
      "Josef               aljasmi\n"
     ]
    }
   ],
   "source": [
    "first_name = \"Josef\"\n",
    "last_name = \"aljasmi\"\n",
    "\n",
    "print(f\"{'first_name':20}{last_name}\")\n",
    "print(f\"{first_name:<20}{last_name}\")"
   ]
  },
  {
   "cell_type": "code",
   "execution_count": null,
   "metadata": {},
   "outputs": [],
   "source": []
  }
 ],
 "metadata": {
  "kernelspec": {
   "display_name": "base",
   "language": "python",
   "name": "python3"
  },
  "language_info": {
   "codemirror_mode": {
    "name": "ipython",
    "version": 3
   },
   "file_extension": ".py",
   "mimetype": "text/x-python",
   "name": "python",
   "nbconvert_exporter": "python",
   "pygments_lexer": "ipython3",
   "version": "3.10.9"
  },
  "orig_nbformat": 4
 },
 "nbformat": 4,
 "nbformat_minor": 2
}
