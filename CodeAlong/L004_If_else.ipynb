{
 "cells": [
  {
   "cell_type": "markdown",
   "metadata": {},
   "source": [
    "# If statements\n",
    "- **If** - Essential part of if-statement\n",
    "- **elif** - Zero, One, or More elif\n",
    "- **else** - Zero, One"
   ]
  },
  {
   "cell_type": "code",
   "execution_count": 1,
   "metadata": {},
   "outputs": [
    {
     "name": "stdout",
     "output_type": "stream",
     "text": [
      "Hello Pelle!\n"
     ]
    }
   ],
   "source": [
    "x = 15\n",
    "name = \"Pelle\"\n",
    "\n",
    "if x < 10 or name ==\"Josef\":\n",
    "    print(\"Yes!\")\n",
    "    print(\"True!\")\n",
    "elif name == \"Kalle\":\n",
    "    print(\"Hello Kalle\")\n",
    "elif name == \"Pelle\":\n",
    "    print(\"Hello Pelle!\")\n",
    "elif name == \"Anders\":\n",
    "    print(\"Hello Anders!\")\n",
    "else:\n",
    "    print(\"No!\")\n",
    "    print(\"False!\")"
   ]
  },
  {
   "cell_type": "markdown",
   "metadata": {},
   "source": [
    "# One line if statement\n",
    "\n",
    "When the if statment is followed by only one statement"
   ]
  },
  {
   "cell_type": "code",
   "execution_count": 2,
   "metadata": {},
   "outputs": [
    {
     "name": "stdout",
     "output_type": "stream",
     "text": [
      "Yes!\n"
     ]
    }
   ],
   "source": [
    "name = \"Fredrik\"\n",
    "\n",
    "if x< 10 or name == \"Fredrik\": print(\"Yes!\")\n"
   ]
  },
  {
   "cell_type": "markdown",
   "metadata": {},
   "source": [
    "# Ternary operator\n",
    "A special operator that take three operands and returns one of those choices depending on if the middle expression evaluate to true of false. (TrueValue if expression else FalseValue)"
   ]
  },
  {
   "cell_type": "code",
   "execution_count": null,
   "metadata": {},
   "outputs": [],
   "source": [
    "name = \"Josef\"\n",
    "lastname = (\"Aljasmi\" if name == \"Josef\" else \"???\")\n",
    "\n",
    "print(f\"{name} {lastname}\")\n",
    "\n",
    "seconds = 1\n",
    "print()"
   ]
  }
 ],
 "metadata": {
  "kernelspec": {
   "display_name": "base",
   "language": "python",
   "name": "python3"
  },
  "language_info": {
   "codemirror_mode": {
    "name": "ipython",
    "version": 3
   },
   "file_extension": ".py",
   "mimetype": "text/x-python",
   "name": "python",
   "nbconvert_exporter": "python",
   "pygments_lexer": "ipython3",
   "version": "3.10.9"
  },
  "orig_nbformat": 4
 },
 "nbformat": 4,
 "nbformat_minor": 2
}
