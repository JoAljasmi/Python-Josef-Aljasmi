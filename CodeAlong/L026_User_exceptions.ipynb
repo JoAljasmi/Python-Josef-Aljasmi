{
 "cells": [
  {
   "cell_type": "code",
   "execution_count": null,
   "metadata": {},
   "outputs": [],
   "source": [
    "print(x)"
   ]
  },
  {
   "cell_type": "code",
   "execution_count": null,
   "metadata": {},
   "outputs": [],
   "source": [
    "int(\"hej\")"
   ]
  },
  {
   "cell_type": "code",
   "execution_count": null,
   "metadata": {},
   "outputs": [],
   "source": [
    "int([])"
   ]
  },
  {
   "cell_type": "code",
   "execution_count": null,
   "metadata": {},
   "outputs": [],
   "source": [
    "fruits = [\"kiwi\", \"apple\"]\n",
    "fruits[3]"
   ]
  },
  {
   "cell_type": "code",
   "execution_count": null,
   "metadata": {},
   "outputs": [],
   "source": [
    "x = 0\n",
    "\n",
    "try:\n",
    "    print(z)\n",
    "    print(5 / x)\n",
    "except Exception:\n",
    "    print(\"There was an error.\")"
   ]
  },
  {
   "cell_type": "code",
   "execution_count": null,
   "metadata": {},
   "outputs": [],
   "source": [
    "class FredrikError(Exception):\n",
    "    ...\n",
    "\n",
    "try:\n",
    "    #5 / 0\n",
    "    raise FredrikError(\"Fredrik did something wrong.\")\n",
    "    print(\"hello\")\n",
    "except FredrikError as e:\n",
    "    print(e)"
   ]
  }
 ],
 "metadata": {
  "language_info": {
   "name": "python"
  },
  "orig_nbformat": 4
 },
 "nbformat": 4,
 "nbformat_minor": 2
}
