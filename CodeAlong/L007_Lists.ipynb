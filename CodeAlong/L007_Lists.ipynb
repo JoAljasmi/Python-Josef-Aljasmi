{
 "cells": [
  {
   "cell_type": "markdown",
   "metadata": {},
   "source": [
    "# List\n",
    "- Lists are on of 4 built-in data types in Python used to store collections of data, the other 3 are Tuple, Set, and Dictionary, all with different qualities and usage.\n",
    "- Lists are used to store multiple items in as ingle variable.\n",
    "- Lists are created using square brackets: []\n",
    "- List items are ordered, changeable(mutable), and allow duplicate values."
   ]
  },
  {
   "cell_type": "code",
   "execution_count": 3,
   "metadata": {},
   "outputs": [
    {
     "name": "stdout",
     "output_type": "stream",
     "text": [
      "fruits = ['apple', 'banana', 'cherry', 'orange', 'apple']\n",
      "len(fruits) = 5\n",
      "fruits.count('apple') = 2\n",
      "fruits = ['apple', 'banana', 'cherry', 'orange', 'apple', 'melon', 'kiwi']\n",
      "fruits = ['apple', 'banana', 'cherry', 'orange', 'apple', 'melon', 'kiwi', 'pear', 'coconut', 'pineapple']\n"
     ]
    }
   ],
   "source": [
    "fruits = [\"apple\", \"banana\", \"cherry\", \"orange\", \"apple\"]\n",
    "more_fruits = [\"pear\", \"coconut\", \"pinepple\", [3, 4, 5], bool(True), 4.5]\n",
    "\n",
    "fruits.append('melon')\n",
    "fruits.append('kiwi')\n",
    "\n",
    "print(f\"{fruits = }\")\n",
    "print(f\"{len(fruits) = }\")\n",
    "print(f\"{fruits.count('apple') = }\")\n",
    "\n",
    "fruits += more_fruits # alt. fruits.extend(more_fruits)\n",
    "print(f\"{fruits = }\")"
   ]
  },
  {
   "cell_type": "markdown",
   "metadata": {},
   "source": [
    "## Mini-uppgift\n",
    "Skriv ett program som ber användaren mata in färger, en i taget, tills användarens input är tom, varje färg skall läggas på en lista och när användarens inmatning är slut så skrivs listan ut, samt hur många färger det är på listan."
   ]
  },
  {
   "cell_type": "code",
   "execution_count": null,
   "metadata": {},
   "outputs": [],
   "source": [
    "user_input_color = input(\"Enter a color:\")\n",
    "color_list = [user_input_color]\n",
    "while user_input_color != \"\":\n",
    "    user_input_color = input(\"Enter a color: \")\n",
    "    color_list.append(user_input_color)\n",
    "x = len(color_list) - 1\n",
    "del(color_list[x])\n",
    "print(color_list)"
   ]
  },
  {
   "cell_type": "markdown",
   "metadata": {},
   "source": [
    "## How to write good code\n",
    "- Be consistent. Don't use different ways to name your variables.\n",
    "- DRY = Don't Repeat Yourself.\n",
    "- List items can be of any data type, and can contain different data types"
   ]
  },
  {
   "cell_type": "markdown",
   "metadata": {},
   "source": [
    "# Index & Slicing\n",
    "- List items are indexed, the first item has index[0], the second item has indes[1] etc.\n",
    "- Make sure the index exists, or the program will crash with a \"index out of range\"-message\n",
    "- negative indexing: -1 refers to last item, -2 refers to second to last etc.\n",
    "- Slicing: Specifying a range of indexes returns a new list with the specified items. [start:stop:step(optional)]"
   ]
  },
  {
   "cell_type": "code",
   "execution_count": 5,
   "metadata": {},
   "outputs": [
    {
     "name": "stdout",
     "output_type": "stream",
     "text": [
      "fruits[0] = 'apple'\n",
      "fruits[-1] = 'pineapple'\n"
     ]
    }
   ],
   "source": [
    "print(f\"{fruits[0] = }\")\n",
    "print(f\"{fruits[-1] = }\")"
   ]
  },
  {
   "cell_type": "markdown",
   "metadata": {},
   "source": [
    "# Looping through a list"
   ]
  },
  {
   "cell_type": "code",
   "execution_count": null,
   "metadata": {},
   "outputs": [],
   "source": [
    "for index, fruit in  enumerate(fruits[:-3]):\n",
    "    print(f\"{index}: {fruit}\")"
   ]
  },
  {
   "cell_type": "markdown",
   "metadata": {},
   "source": [
    "# List comprehension\n",
    "\n",
    "List comprehension offers a shorter syntax when you want to create a new list based on the values of an existing list.\n",
    "\n",
    "Basic Syntax: [item for item in mu_list]\n",
    "\n",
    "Syntax with condition: [item for item in my_list if len(item) == 5]\n",
    "\n",
    "Example:\n",
    "\n",
    "Based on a list of fruits, you want a new list, containing only the fruits with the letter \"a\" in the name.\n",
    "\n",
    "Without list comprehension you will have to write a for statement with a conditional test inside:"
   ]
  },
  {
   "cell_type": "code",
   "execution_count": null,
   "metadata": {},
   "outputs": [],
   "source": [
    "fruits = [\"apple\", \"banana\", \"cherry\", \"orange\", \"apple\"]\n",
    "fruits_with_a = [fruit for fruit in fruits if \"a\" in fruit]\n",
    "print(f\"{fruits_with_a = }\")"
   ]
  },
  {
   "cell_type": "code",
   "execution_count": null,
   "metadata": {},
   "outputs": [],
   "source": [
    "x = list(range(10))\n",
    "print(f\"{x = }\")\n",
    "\n",
    "y = [item**2 for item in x]\n",
    "print(f\"{y = }\")"
   ]
  },
  {
   "cell_type": "markdown",
   "metadata": {},
   "source": [
    "## Mini Uppgift 2\n",
    "\n",
    "Skapa manuellt en lista i koden med 5 frukter. Använd list comprehension för att skapa en ny lista med samma frukter, men med ett utropstecken i slutet på varje frukt(sträng)"
   ]
  },
  {
   "cell_type": "code",
   "execution_count": null,
   "metadata": {},
   "outputs": [],
   "source": [
    "fruits = [\"apple\", \"banana\", \"cherry\", \"kiwi\" ,\"coconut\"]\n",
    "new_fruits = [fruit + \"!\" for fruit in fruits]\n",
    "print(f\"{new_fruits = }\")"
   ]
  },
  {
   "cell_type": "markdown",
   "metadata": {},
   "source": [
    "## Mini Uppgift 3\n",
    "\n",
    "a) Skapa en lista med alla heltal 0 till 100. Skapa en ny lista som innehåller alla jämna tal från den första listan.\n",
    "\n",
    "b) Skapa en ny lista från listan med frukter som tar med alla frukter där namnet är 5 bokstäver."
   ]
  },
  {
   "cell_type": "code",
   "execution_count": null,
   "metadata": {},
   "outputs": [],
   "source": [
    "number_list = list(range(101))\n",
    "even_number_list = [number for number in number_list if number % 2 == 0]\n",
    "print(f\"{even_number_list = }\")"
   ]
  },
  {
   "cell_type": "code",
   "execution_count": null,
   "metadata": {},
   "outputs": [],
   "source": [
    "fruits = [\"apple\", \"banana\", \"cherry\", \"kiwi\" ,\"coconut\", \"melon\"]\n",
    "new_fruit_list = [fruit for fruit in fruits if len(fruit) == 5]\n",
    "print(f\"{new_fruit_list = }\")"
   ]
  },
  {
   "cell_type": "code",
   "execution_count": 2,
   "metadata": {},
   "outputs": [
    {
     "name": "stdout",
     "output_type": "stream",
     "text": [
      "Added Red to our database!\n",
      "Added Blue  to our database!\n",
      "Added Pink to our database!\n",
      "Added  to our database!\n",
      "['red', 'blue ', 'pink', '']\n",
      "4\n"
     ]
    }
   ],
   "source": [
    "data = []\n",
    "new_Color = 'a'\n",
    "while new_Color != '':\n",
    "    new_Color = input(\"Please enter a color: \")\n",
    "    if new_Color.lower() in data:\n",
    "        print(f\"{new_Color} is already known! Please use a unique color.\")\n",
    "        continue\n",
    "    else:\n",
    "        print(f\"Added {new_Color.title()} to our database!\")\n",
    "        data.append(new_Color.lower())\n",
    "    if not new_Color:\n",
    "        break\n",
    "        \n",
    "print(data)\n",
    "print(len(data))"
   ]
  },
  {
   "cell_type": "markdown",
   "metadata": {},
   "source": [
    "camelCase\n",
    "PascalCase\n",
    "snake_case # used in python\n",
    "list_of_students\n",
    "listOfStudents\n",
    "\n",
    "DRY = Don't Repeat Yourself"
   ]
  }
 ],
 "metadata": {
  "kernelspec": {
   "display_name": "base",
   "language": "python",
   "name": "python3"
  },
  "language_info": {
   "codemirror_mode": {
    "name": "ipython",
    "version": 3
   },
   "file_extension": ".py",
   "mimetype": "text/x-python",
   "name": "python",
   "nbconvert_exporter": "python",
   "pygments_lexer": "ipython3",
   "version": "3.10.9"
  },
  "orig_nbformat": 4
 },
 "nbformat": 4,
 "nbformat_minor": 2
}
