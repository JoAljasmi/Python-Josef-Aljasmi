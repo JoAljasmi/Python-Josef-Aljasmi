{
 "cells": [
  {
   "cell_type": "markdown",
   "metadata": {},
   "source": [
    "# strings \n",
    "- Data type used in Python for storing text.\n",
    "- Literal values with single or double quotes. 'single', \"double\"\n",
    "- strings are immutable (meaning not changeable)"
   ]
  },
  {
   "cell_type": "markdown",
   "metadata": {},
   "source": [
    "## Concatenate \n",
    "\n",
    "In Python we can concatenate two or more strings using the + operator "
   ]
  },
  {
   "cell_type": "code",
   "execution_count": 2,
   "metadata": {},
   "outputs": [
    {
     "name": "stdout",
     "output_type": "stream",
     "text": [
      "HelloWorld\n",
      "Hello World\n"
     ]
    }
   ],
   "source": [
    "string1 = \"Hello\"\n",
    "string2 = \"World\"\n",
    "\n",
    "string3 = string1 + string2 \n",
    "\n",
    "print(string3)\n",
    "\n",
    "string3 = string1 + \" \" + string2\n",
    "\n",
    "print(string3)"
   ]
  },
  {
   "cell_type": "markdown",
   "metadata": {},
   "source": [
    "## Multiline strings\n",
    "\n",
    "Python allows string literals to span multiple rows if started, and ended by \"\"\n"
   ]
  },
  {
   "cell_type": "code",
   "execution_count": 4,
   "metadata": {},
   "outputs": [
    {
     "name": "stdout",
     "output_type": "stream",
     "text": [
      "This\n",
      "is\n",
      "an\n",
      "example!\n",
      "\n",
      "This\n",
      "is\n",
      "another\n",
      "example!\n"
     ]
    }
   ],
   "source": [
    "text = \"\"\"This\n",
    "is\n",
    "an\n",
    "example!\"\"\"\n",
    "\n",
    "print(text)\n",
    "\n",
    "print()\n",
    "\n",
    "if True:\n",
    "    text = \"\"\"This\n",
    "is\n",
    "another\n",
    "example!\"\"\"\n",
    "\n",
    "    print(text)"
   ]
  },
  {
   "cell_type": "markdown",
   "metadata": {},
   "source": [
    "## Indexing and slicing\n"
   ]
  },
  {
   "cell_type": "code",
   "execution_count": 7,
   "metadata": {},
   "outputs": [
    {
     "name": "stdout",
     "output_type": "stream",
     "text": [
      "name = 'Josef'\n",
      "name[0] = 'J'\n",
      "name[-1] = 'f'\n",
      "name[:3] = 'Jos'\n"
     ]
    }
   ],
   "source": [
    "name = \"Josef\"\n",
    "print(f\"{name = }\")\n",
    "print(f\"{name[0] = }\")\n",
    "print(f\"{name[-1] = }\")\n",
    "print(f\"{name[:3] = }\")\n",
    "\n"
   ]
  },
  {
   "cell_type": "markdown",
   "metadata": {},
   "source": [
    "## Lopping through a string"
   ]
  },
  {
   "cell_type": "code",
   "execution_count": 9,
   "metadata": {},
   "outputs": [
    {
     "name": "stdout",
     "output_type": "stream",
     "text": [
      "J\n",
      "o\n",
      "s\n",
      "e\n",
      "f\n"
     ]
    }
   ],
   "source": [
    "name = \"Josef\"\n",
    "\n",
    "for char in name:\n",
    "    print(char)"
   ]
  },
  {
   "cell_type": "markdown",
   "metadata": {},
   "source": [
    "## Membership operator with string"
   ]
  },
  {
   "cell_type": "code",
   "execution_count": 11,
   "metadata": {},
   "outputs": [
    {
     "name": "stdout",
     "output_type": "stream",
     "text": [
      "'drik' in name = True\n",
      "name in 'Josef' = False\n",
      "'efg' not in 'abcdefg' = False\n"
     ]
    }
   ],
   "source": [
    "name = \"Fredrik\"\n",
    "\n",
    "print(f\"{'drik' in name = }\")\n",
    "print(f\"{name in 'Josef' = }\")\n",
    "print(f\"{'efg' not in 'abcdefg' = }\" )"
   ]
  },
  {
   "cell_type": "markdown",
   "metadata": {},
   "source": [
    "## Escape characters \n",
    "To insert characters that are illegal in a string, use an escape chracter.\n",
    "\n",
    "An escape character is a backslash \\ followed by the character you want to insert.\n",
    "\n",
    "An example of illegal chracter is a double quote inside a string that is surrounded by double quotes."
   ]
  },
  {
   "cell_type": "markdown",
   "metadata": {},
   "source": [
    "## Common escape characters \n",
    "\n",
    "- \\\" double quote\n",
    "- \\' single quote\n",
    "- \\\\ backslash\n",
    "- \\n New line\n",
    "- \\t Tab"
   ]
  },
  {
   "cell_type": "code",
   "execution_count": 12,
   "metadata": {},
   "outputs": [
    {
     "name": "stdout",
     "output_type": "stream",
     "text": [
      "Hello\tworld\n",
      "Here \\ is \"another\" example\n"
     ]
    }
   ],
   "source": [
    "escaped_text = \"Hello\\tworld\\nHere \\\\ is \\\"another\\\" example\"\n",
    "print(escaped_text)"
   ]
  },
  {
   "cell_type": "markdown",
   "metadata": {},
   "source": [
    "## String methods"
   ]
  },
  {
   "cell_type": "code",
   "execution_count": 16,
   "metadata": {},
   "outputs": [
    {
     "name": "stdout",
     "output_type": "stream",
     "text": [
      "name = 'Josef'\n",
      "name_upper = 'JOSEF'\n",
      "\n",
      "Check if string starts or ends with substring:\n",
      "\"Hello world\".startswith(\"hello\") = False\n",
      "\"Hello world\".endswith(\"hello\") = False\n",
      "\n",
      "Upper- & Lower case:\n",
      "\"Hello world\".lower() = 'hello world'\n",
      "\"Hello World\".upper() = 'HELLO WORLD'\n",
      "\"Hello World\".title() = 'Hello World'\n",
      "\"Hello World\".capitalize() = 'Hello world'\n",
      "\n",
      "Strip whitespace from start/end of string:\n",
      "\n",
      "Strip whitespace from start/end of string:\n",
      "\"                 Hello World                 \".strip() ='Hello World'\n",
      "\"                 Hello World                 \".lstrip() ='Hello World                 '\n",
      "\"                 Hello World                 \".rstrip() ='                 Hello World'\n",
      "\n",
      "Join multiple string\n",
      "\",\".join([\"Fredrik\", \"Johan\", \"Anna\"]) = 'Fredrik,Johan,Anna'\n",
      "\n",
      "Split string into multiple (list of) strings\n",
      "\"This is another example\".split() = ['This', 'is', 'another', 'example']\n",
      "\"This is another example\".split(\"a\") = ['This is ', 'nother ex', 'mple']\n",
      "\"Apple, Orange, Pear, Melon\".split(\",\") = ['Apple', ' Orange', ' Pear', ' Melon']\n",
      "\n",
      "Replace part of string\n",
      "\"This is another example\".replace(\"another\", \"just an\") = 'This is just an example'\n",
      "\n",
      "Find index of substring\n",
      "\"This is another example\".find(\"another\") = 8\n"
     ]
    }
   ],
   "source": [
    "# string methods return a new string, but does not change the strong that it's called upon\n",
    "name = \"Josef\"\n",
    "name_upper = name.upper()\n",
    "print(f\"{name = }\")\n",
    "print(f\"{name_upper = }\")\n",
    "\n",
    "print(\"\\nCheck if string starts or ends with substring:\")\n",
    "print(f'{\"Hello world\".startswith(\"hello\") = }')\n",
    "print(f'{\"Hello world\".endswith(\"hello\") = }')\n",
    "\n",
    "print(\"\\nUpper- & Lower case:\")\n",
    "print(f'{\"Hello world\".lower() = }')\n",
    "print(f'{\"Hello World\".upper() = }')\n",
    "print(f'{\"Hello World\".title() = }')\n",
    "print(f'{\"Hello World\".capitalize() = }')\n",
    "\n",
    "print(\"\\nStrip whitespace from start/end of string:\")\n",
    "\n",
    "# Strip is often used when getting input from user.\n",
    "print(\"\\nStrip whitespace from start/end of string:\")\n",
    "print(f'{\"                 Hello World                 \".strip() =}')\n",
    "print(f'{\"                 Hello World                 \".lstrip() =}')\n",
    "print(f'{\"                 Hello World                 \".rstrip() =}')\n",
    "\n",
    "\n",
    "print(\"\\nJoin multiple string\")\n",
    "print(f'{\",\".join([\"Fredrik\", \"Johan\", \"Anna\"]) = }')\n",
    "\n",
    "print(\"\\nSplit string into multiple (list of) strings\")\n",
    "print(f'{\"This is another example\".split() = }')\n",
    "print(f'{\"This is another example\".split(\"a\") = }')\n",
    "print(f'{\"Apple, Orange, Pear, Melon\".split(\",\") = }')\n",
    "\n",
    "print(\"\\nReplace part of string\")\n",
    "print(f'{\"This is another example\".replace(\"another\", \"just an\") = }')\n",
    "\n",
    "print(\"\\nFind index of substring\")\n",
    "print(f'{\"This is another example\".find(\"another\") = }')"
   ]
  },
  {
   "cell_type": "code",
   "execution_count": 13,
   "metadata": {},
   "outputs": [
    {
     "name": "stdout",
     "output_type": "stream",
     "text": [
      "['palati']\n",
      "palati\n"
     ]
    }
   ],
   "source": [
    "text = input(\"Enter some text: \")\n",
    "\n",
    "words = text.split()\n",
    "\n",
    "print(words)\n",
    "\n",
    "for word in words: \n",
    "    print(word)"
   ]
  },
  {
   "cell_type": "code",
   "execution_count": 14,
   "metadata": {},
   "outputs": [
    {
     "name": "stdout",
     "output_type": "stream",
     "text": [
      "josef aljasmi\n"
     ]
    }
   ],
   "source": [
    "data = \"josef aljasmi, 42\"\n",
    "\n",
    "index = data.find(\",\")\n",
    "name = data[:index]\n",
    "print(name)\n",
    "\n",
    "\n"
   ]
  },
  {
   "cell_type": "code",
   "execution_count": null,
   "metadata": {},
   "outputs": [],
   "source": []
  }
 ],
 "metadata": {
  "kernelspec": {
   "display_name": "base",
   "language": "python",
   "name": "python3"
  },
  "language_info": {
   "codemirror_mode": {
    "name": "ipython",
    "version": 3
   },
   "file_extension": ".py",
   "mimetype": "text/x-python",
   "name": "python",
   "nbconvert_exporter": "python",
   "pygments_lexer": "ipython3",
   "version": "3.10.9"
  },
  "orig_nbformat": 4
 },
 "nbformat": 4,
 "nbformat_minor": 2
}
