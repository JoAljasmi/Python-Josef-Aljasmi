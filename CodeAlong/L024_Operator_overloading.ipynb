{
 "cells": [
  {
   "cell_type": "markdown",
   "metadata": {},
   "source": [
    "# Operator overloading"
   ]
  },
  {
   "cell_type": "code",
   "execution_count": null,
   "metadata": {},
   "outputs": [],
   "source": [
    "class Cat:\n",
    "    def __init__(self, name, age):\n",
    "        self.name = name\n",
    "        self.age = age\n",
    "\n",
    "    def __add__(self, other):\n",
    "        return self.name + other.name\n",
    "\n",
    "cat_a = Cat(\"Pelle\", 8)\n",
    "cat_b = Cat(\"Måns\", 9)\n",
    "\n",
    "cat_a + cat_b"
   ]
  },
  {
   "cell_type": "code",
   "execution_count": null,
   "metadata": {},
   "outputs": [],
   "source": [
    "5 + 3"
   ]
  },
  {
   "cell_type": "code",
   "execution_count": null,
   "metadata": {},
   "outputs": [],
   "source": [
    "\"Hello\" + \"World\""
   ]
  },
  {
   "cell_type": "code",
   "execution_count": null,
   "metadata": {},
   "outputs": [],
   "source": [
    "[\"Kiwi\", \"Orange\", \"Melon\"] + [\"Apple\", \"Pear\"]"
   ]
  },
  {
   "cell_type": "code",
   "execution_count": null,
   "metadata": {},
   "outputs": [],
   "source": [
    "class Temperature:\n",
    "    def __init__(self, kelvin=None, celsius=None):\n",
    "        if kelvin is not None:\n",
    "            self.kelvin = kelvin\n",
    "        else:            \n",
    "            self.celsius = celsius\n",
    "\n",
    "    @property\n",
    "    def kelvin(self):\n",
    "        return self._kelvin\n",
    "    \n",
    "    @kelvin.setter\n",
    "    def kelvin(self, kelvin):\n",
    "        self._kelvin = kelvin\n",
    "\n",
    "    @property\n",
    "    def celsius(self):\n",
    "        return self._kelvin - 273.15\n",
    "    \n",
    "    @celsius.setter\n",
    "    def celsius(self, celsius):\n",
    "        self._kelvin = celsius + 273.15\n",
    "\n",
    "    def __repr__(self):\n",
    "        return f\"Kelvin = {self.kelvin}, Celsius = {self.celsius}\"\n",
    "    \n",
    "    def __add__(self, other):\n",
    "        if type(other) not in [float, int, Temperature]:\n",
    "            raise TypeError(f\"unsupported operand type(s) for +: 'Temperature' and '{type(other)}'\")\n",
    "\n",
    "        kelvin = other if type(other) in [float, int] else other.kelvin\n",
    "        return Temperature(kelvin=self.kelvin + kelvin)\n",
    "    \n",
    "    def __radd__(self, other):\n",
    "        return self.__add__(other)\n",
    "    \n",
    "t1 = Temperature(celsius=5)\n",
    "t2 = Temperature(kelvin=5)\n",
    "t3 = Temperature(kelvin=2)\n",
    "\n",
    "print(t1)\n",
    "print(t2)\n",
    "print(t3)\n",
    "\n",
    "sum([1, t1, t2, 0.85, t3])"
   ]
  }
 ],
 "metadata": {
  "kernelspec": {
   "display_name": "base",
   "language": "python",
   "name": "python3"
  },
  "language_info": {
   "name": "python",
   "version": "3.10.9"
  },
  "orig_nbformat": 4
 },
 "nbformat": 4,
 "nbformat_minor": 2
}
