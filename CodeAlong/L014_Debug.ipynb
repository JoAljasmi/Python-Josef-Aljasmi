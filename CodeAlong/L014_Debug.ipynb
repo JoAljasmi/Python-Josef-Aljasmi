{
 "cells": [
  {
   "cell_type": "markdown",
   "metadata": {},
   "source": [
    "# Debugging\n",
    "\n",
    "Finding and correcting errors (bugs) in code.\n",
    "\n",
    "## break point\n",
    "\n",
    "In all IDE (Integrated Development Environment) the developer has the possibility to debug code by stepping through instructions one by one and look at the internal states (memory/variables) for each step.\n",
    "\n",
    "We can set one or multiple break points at any line in our code. When starting the program in debug mode, the code will run up until it hits the first breakpoint. from there we can inspect the current state of our program, and we can chose to either run our program until it hits the next breakpoint, or we can use the \"step over\" function of the debugger to step one instruction at a time"
   ]
  },
  {
   "cell_type": "code",
   "execution_count": 11,
   "metadata": {},
   "outputs": [
    {
     "name": "stderr",
     "output_type": "stream",
     "text": [
      "Traceback (most recent call last):\n",
      "  File \"_pydevd_bundle/pydevd_cython.pyx\", line 1078, in _pydevd_bundle.pydevd_cython.PyDBFrame.trace_dispatch\n",
      "  File \"_pydevd_bundle/pydevd_cython.pyx\", line 297, in _pydevd_bundle.pydevd_cython.PyDBFrame.do_wait_suspend\n",
      "  File \"c:\\Users\\Jaket\\anaconda3\\lib\\site-packages\\debugpy\\_vendored\\pydevd\\pydevd.py\", line 1976, in do_wait_suspend\n",
      "    keep_suspended = self._do_wait_suspend(thread, frame, event, arg, suspend_type, from_this_thread, frames_tracker)\n",
      "  File \"c:\\Users\\Jaket\\anaconda3\\lib\\site-packages\\debugpy\\_vendored\\pydevd\\pydevd.py\", line 2011, in _do_wait_suspend\n",
      "    time.sleep(0.01)\n",
      "KeyboardInterrupt\n"
     ]
    },
    {
     "ename": "KeyboardInterrupt",
     "evalue": "",
     "output_type": "error",
     "traceback": [
      "\u001b[1;31m---------------------------------------------------------------------------\u001b[0m",
      "\u001b[1;31mKeyboardInterrupt\u001b[0m                         Traceback (most recent call last)",
      "\u001b[1;32mc:\\Users\\Jaket\\Documents\\Github\\Python-Programming-Josef-Aljasmi\\CodeAlong\\L014_Debug.ipynb Cell 2\u001b[0m line \u001b[0;36m1\n\u001b[0;32m      <a href='vscode-notebook-cell:/c%3A/Users/Jaket/Documents/Github/Python-Programming-Josef-Aljasmi/CodeAlong/L014_Debug.ipynb#W2sZmlsZQ%3D%3D?line=6'>7</a>\u001b[0m b \u001b[39m=\u001b[39m\u001b[39m3\u001b[39m\n\u001b[0;32m      <a href='vscode-notebook-cell:/c%3A/Users/Jaket/Documents/Github/Python-Programming-Josef-Aljasmi/CodeAlong/L014_Debug.ipynb#W2sZmlsZQ%3D%3D?line=7'>8</a>\u001b[0m c \u001b[39m=\u001b[39m a \u001b[39m+\u001b[39mb\n\u001b[1;32m---> <a href='vscode-notebook-cell:/c%3A/Users/Jaket/Documents/Github/Python-Programming-Josef-Aljasmi/CodeAlong/L014_Debug.ipynb#W2sZmlsZQ%3D%3D?line=9'>10</a>\u001b[0m greet(b)\n\u001b[0;32m     <a href='vscode-notebook-cell:/c%3A/Users/Jaket/Documents/Github/Python-Programming-Josef-Aljasmi/CodeAlong/L014_Debug.ipynb#W2sZmlsZQ%3D%3D?line=10'>11</a>\u001b[0m \u001b[39mprint\u001b[39m(c)\n",
      "\u001b[1;32mc:\\Users\\Jaket\\Documents\\Github\\Python-Programming-Josef-Aljasmi\\CodeAlong\\L014_Debug.ipynb Cell 2\u001b[0m line \u001b[0;36m1\n\u001b[1;32m----> <a href='vscode-notebook-cell:/c%3A/Users/Jaket/Documents/Github/Python-Programming-Josef-Aljasmi/CodeAlong/L014_Debug.ipynb#W2sZmlsZQ%3D%3D?line=0'>1</a>\u001b[0m \u001b[39mdef\u001b[39;00m \u001b[39mgreet\u001b[39m(n):\n\u001b[0;32m      <a href='vscode-notebook-cell:/c%3A/Users/Jaket/Documents/Github/Python-Programming-Josef-Aljasmi/CodeAlong/L014_Debug.ipynb#W2sZmlsZQ%3D%3D?line=1'>2</a>\u001b[0m     \u001b[39mfor\u001b[39;00m i \u001b[39min\u001b[39;00m \u001b[39mrange\u001b[39m(n):\n\u001b[0;32m      <a href='vscode-notebook-cell:/c%3A/Users/Jaket/Documents/Github/Python-Programming-Josef-Aljasmi/CodeAlong/L014_Debug.ipynb#W2sZmlsZQ%3D%3D?line=2'>3</a>\u001b[0m         \u001b[39mprint\u001b[39m(\u001b[39m\"\u001b[39m\u001b[39mHello\u001b[39m\u001b[39m\"\u001b[39m)\n",
      "File \u001b[1;32m_pydevd_bundle/pydevd_cython.pyx:1363\u001b[0m, in \u001b[0;36m_pydevd_bundle.pydevd_cython.SafeCallWrapper.__call__\u001b[1;34m()\u001b[0m\n",
      "File \u001b[1;32m_pydevd_bundle/pydevd_cython.pyx:1740\u001b[0m, in \u001b[0;36m_pydevd_bundle.pydevd_cython.ThreadTracer.__call__\u001b[1;34m()\u001b[0m\n",
      "File \u001b[1;32m_pydevd_bundle/pydevd_cython.pyx:1087\u001b[0m, in \u001b[0;36m_pydevd_bundle.pydevd_cython.PyDBFrame.trace_dispatch\u001b[1;34m()\u001b[0m\n",
      "File \u001b[1;32m_pydevd_bundle/pydevd_cython.pyx:1078\u001b[0m, in \u001b[0;36m_pydevd_bundle.pydevd_cython.PyDBFrame.trace_dispatch\u001b[1;34m()\u001b[0m\n",
      "File \u001b[1;32m_pydevd_bundle/pydevd_cython.pyx:297\u001b[0m, in \u001b[0;36m_pydevd_bundle.pydevd_cython.PyDBFrame.do_wait_suspend\u001b[1;34m()\u001b[0m\n",
      "File \u001b[1;32mc:\\Users\\Jaket\\anaconda3\\lib\\site-packages\\debugpy\\_vendored\\pydevd\\pydevd.py:1976\u001b[0m, in \u001b[0;36mPyDB.do_wait_suspend\u001b[1;34m(self, thread, frame, event, arg, exception_type)\u001b[0m\n\u001b[0;32m   1973\u001b[0m             from_this_thread\u001b[39m.\u001b[39mappend(frame_custom_thread_id)\n\u001b[0;32m   1975\u001b[0m     \u001b[39mwith\u001b[39;00m \u001b[39mself\u001b[39m\u001b[39m.\u001b[39m_threads_suspended_single_notification\u001b[39m.\u001b[39mnotify_thread_suspended(thread_id, stop_reason):\n\u001b[1;32m-> 1976\u001b[0m         keep_suspended \u001b[39m=\u001b[39m \u001b[39mself\u001b[39;49m\u001b[39m.\u001b[39;49m_do_wait_suspend(thread, frame, event, arg, suspend_type, from_this_thread, frames_tracker)\n\u001b[0;32m   1978\u001b[0m frames_list \u001b[39m=\u001b[39m \u001b[39mNone\u001b[39;00m\n\u001b[0;32m   1980\u001b[0m \u001b[39mif\u001b[39;00m keep_suspended:\n\u001b[0;32m   1981\u001b[0m     \u001b[39m# This means that we should pause again after a set next statement.\u001b[39;00m\n",
      "File \u001b[1;32mc:\\Users\\Jaket\\anaconda3\\lib\\site-packages\\debugpy\\_vendored\\pydevd\\pydevd.py:2011\u001b[0m, in \u001b[0;36mPyDB._do_wait_suspend\u001b[1;34m(self, thread, frame, event, arg, suspend_type, from_this_thread, frames_tracker)\u001b[0m\n\u001b[0;32m   2008\u001b[0m         \u001b[39mself\u001b[39m\u001b[39m.\u001b[39m_call_mpl_hook()\n\u001b[0;32m   2010\u001b[0m     \u001b[39mself\u001b[39m\u001b[39m.\u001b[39mprocess_internal_commands()\n\u001b[1;32m-> 2011\u001b[0m     time\u001b[39m.\u001b[39;49msleep(\u001b[39m0.01\u001b[39;49m)\n\u001b[0;32m   2013\u001b[0m \u001b[39mself\u001b[39m\u001b[39m.\u001b[39mcancel_async_evaluation(get_current_thread_id(thread), \u001b[39mstr\u001b[39m(\u001b[39mid\u001b[39m(frame)))\n\u001b[0;32m   2015\u001b[0m \u001b[39m# process any stepping instructions\u001b[39;00m\n",
      "\u001b[1;31mKeyboardInterrupt\u001b[0m: "
     ]
    }
   ],
   "source": [
    "def greet(n):\n",
    "    for i in range(n):\n",
    "        print(\"Hello\")\n",
    "\n",
    "\n",
    "a = 5\n",
    "b =3\n",
    "c = a +b\n",
    "\n",
    "greet(b)\n",
    "print(c)"
   ]
  },
  {
   "cell_type": "code",
   "execution_count": 34,
   "metadata": {},
   "outputs": [
    {
     "name": "stdout",
     "output_type": "stream",
     "text": [
      "01239019283f08120f9310f012812de08\n",
      "01239019283f08120f9310f012812de08\n",
      "01239019283f08120f9310f012812de08\n",
      "01239019283f08120f9310f012812de08\n",
      "01239019283f08120f9310f012812de08\n",
      "01239019283f08120f9310f012812de08\n",
      "01239019283f08120f9310f012812de08\n",
      "01239019283f08120f9310f012812de08\n"
     ]
    }
   ],
   "source": [
    "from colorama import Fore, Back, Style\n",
    "user_input = input(\"Enter your prompt\")\n",
    "numbers = \"0123456789\"\n",
    "initial_char = \"\"\n",
    "char_index_1 = 0\n",
    "for char_1 in user_input:\n",
    "    if char_1 in numbers:\n",
    "        initial_char = char_1\n",
    "        substring_index = char_index_1+1\n",
    "        char_index_2 = substring_index\n",
    "        for char_2 in user_input[substring_index:]:\n",
    "            if char_2 not in numbers:\n",
    "                break\n",
    "            else:\n",
    "                if char_2 == char_1:\n",
    "                    print(f'{Fore.WHITE+user_input[:char_index_1]}{Fore.RED+user_input[char_index_1:char_index_2+1]}{Fore.WHITE+user_input[char_index_2+1:]}')\n",
    "                    break\n",
    "                else:\n",
    "                    char_index_2 += 1 \n",
    "    char_index_1 += 1"
   ]
  }
 ],
 "metadata": {
  "kernelspec": {
   "display_name": "base",
   "language": "python",
   "name": "python3"
  },
  "language_info": {
   "codemirror_mode": {
    "name": "ipython",
    "version": 3
   },
   "file_extension": ".py",
   "mimetype": "text/x-python",
   "name": "python",
   "nbconvert_exporter": "python",
   "pygments_lexer": "ipython3",
   "version": "3.10.9"
  },
  "orig_nbformat": 4
 },
 "nbformat": 4,
 "nbformat_minor": 2
}
