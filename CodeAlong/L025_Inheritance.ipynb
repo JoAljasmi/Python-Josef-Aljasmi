{
 "cells": [
  {
   "cell_type": "markdown",
   "metadata": {},
   "source": [
    "# Inheritance"
   ]
  },
  {
   "cell_type": "code",
   "execution_count": 11,
   "metadata": {},
   "outputs": [
    {
     "name": "stdout",
     "output_type": "stream",
     "text": [
      "Pelle is running.\n",
      "\n",
      "Karo is running.\n",
      "Karo is barking: VOFF!\n",
      "\n",
      "Nemo is swimming.\n",
      "\n",
      "Kalle is running.\n",
      "Kalle is barking: voff!\n",
      "\n"
     ]
    }
   ],
   "source": [
    "class Animal:\n",
    "    def __init__(self, name):        \n",
    "        self.name = name\n",
    "\n",
    "    def __repr__(self):\n",
    "        return f\"My name is {self.name} and I am a {type(self)}\"\n",
    "\n",
    "    def move(self):\n",
    "        print(f\"{self.name} is running.\")\n",
    "\n",
    "class Cat(Animal):\n",
    "    ...\n",
    "\n",
    "class Dog(Animal):\n",
    "    def __init__(self, name, is_loud):\n",
    "        super().__init__(name)\n",
    "        self._is_loud = is_loud\n",
    "\n",
    "    def _get_voff(self):\n",
    "        return \"VOFF\" if self._is_loud else \"voff\"\n",
    "\n",
    "    def bark(self):\n",
    "        print(f\"{self.name} is barking: {self._get_voff()}!\")\n",
    "\n",
    "class Fish(Animal):\n",
    "    # Method override\n",
    "    def move(self):\n",
    "        print(f\"{self.name} is swimming.\")\n",
    "\n",
    "# Uppgift: Ändra i klassdefinitionerna ovan så att koden nedan fungerar:\n",
    "animals = [\n",
    "    Cat(\"Pelle\"),\n",
    "    Dog(\"Karo\", is_loud = True),\n",
    "    Fish(\"Nemo\"),\n",
    "    Dog(\"Kalle\", is_loud = False),\n",
    "]\n",
    "\n",
    "for animal in animals:\n",
    "    animal.move()\n",
    "    # if hasattr(animal, \"bark\"):\n",
    "    # if type(animal) == Dog:\n",
    "    if isinstance(animal, Dog):\n",
    "        animal.bark()\n",
    "    print()"
   ]
  },
  {
   "cell_type": "code",
   "execution_count": 12,
   "metadata": {},
   "outputs": [
    {
     "name": "stdout",
     "output_type": "stream",
     "text": [
      "isinstance(my_cat, Cat) = True\n",
      "isinstance(my_cat, Dog) = False\n",
      "isinstance(my_cat, Animal) = True\n",
      "isinstance(my_cat, object) = True\n"
     ]
    }
   ],
   "source": [
    "my_cat = Cat(\"Pelle\")\n",
    "print(f\"{isinstance(my_cat, Cat) = }\")\n",
    "print(f\"{isinstance(my_cat, Dog) = }\")\n",
    "print(f\"{isinstance(my_cat, Animal) = }\")\n",
    "print(f\"{isinstance(my_cat, object) = }\")"
   ]
  },
  {
   "cell_type": "code",
   "execution_count": 13,
   "metadata": {},
   "outputs": [
    {
     "name": "stdout",
     "output_type": "stream",
     "text": [
      "issubclass(Cat, Dog) = False\n",
      "issubclass(Cat, Animal) = True\n",
      "issubclass(Cat, object) = True\n",
      "issubclass(Animal, Cat) = False\n"
     ]
    }
   ],
   "source": [
    "print(f\"{issubclass(Cat, Dog) = }\")\n",
    "print(f\"{issubclass(Cat, Animal) = }\")\n",
    "print(f\"{issubclass(Cat, object) = }\")\n",
    "print(f\"{issubclass(Animal, Cat) = }\")"
   ]
  },
  {
   "cell_type": "code",
   "execution_count": 14,
   "metadata": {},
   "outputs": [
    {
     "ename": "TypeError",
     "evalue": "Dog.__init__() missing 1 required positional argument: 'is_loud'",
     "output_type": "error",
     "traceback": [
      "\u001b[1;31m---------------------------------------------------------------------------\u001b[0m",
      "\u001b[1;31mTypeError\u001b[0m                                 Traceback (most recent call last)",
      "\u001b[1;32mc:\\Users\\Jaket\\Documents\\Github\\Python-Programming-Josef-Aljasmi\\CodeAlong\\L025_Inheritance.ipynb Cell 5\u001b[0m line \u001b[0;36m1\n\u001b[1;32m----> <a href='vscode-notebook-cell:/c%3A/Users/Jaket/Documents/Github/Python-Programming-Josef-Aljasmi/CodeAlong/L025_Inheritance.ipynb#W4sZmlsZQ%3D%3D?line=0'>1</a>\u001b[0m my_dog \u001b[39m=\u001b[39m Dog(\u001b[39m\"\u001b[39;49m\u001b[39mKaro\u001b[39;49m\u001b[39m\"\u001b[39;49m)\n\u001b[0;32m      <a href='vscode-notebook-cell:/c%3A/Users/Jaket/Documents/Github/Python-Programming-Josef-Aljasmi/CodeAlong/L025_Inheritance.ipynb#W4sZmlsZQ%3D%3D?line=1'>2</a>\u001b[0m \u001b[39mprint\u001b[39m(\u001b[39mf\u001b[39m\u001b[39m\"\u001b[39m\u001b[39m{\u001b[39;00m\u001b[39mhasattr\u001b[39m(my_dog, \u001b[39m'\u001b[39m\u001b[39mname\u001b[39m\u001b[39m'\u001b[39m) \u001b[39m= }\u001b[39;00m\u001b[39m\"\u001b[39m)\n\u001b[0;32m      <a href='vscode-notebook-cell:/c%3A/Users/Jaket/Documents/Github/Python-Programming-Josef-Aljasmi/CodeAlong/L025_Inheritance.ipynb#W4sZmlsZQ%3D%3D?line=2'>3</a>\u001b[0m \u001b[39mprint\u001b[39m(\u001b[39mf\u001b[39m\u001b[39m\"\u001b[39m\u001b[39m{\u001b[39;00m\u001b[39mhasattr\u001b[39m(my_dog, \u001b[39m'\u001b[39m\u001b[39mage\u001b[39m\u001b[39m'\u001b[39m) \u001b[39m= }\u001b[39;00m\u001b[39m\"\u001b[39m)\n",
      "\u001b[1;31mTypeError\u001b[0m: Dog.__init__() missing 1 required positional argument: 'is_loud'"
     ]
    }
   ],
   "source": [
    "my_dog = Dog(\"Karo\")\n",
    "print(f\"{hasattr(my_dog, 'name') = }\")\n",
    "print(f\"{hasattr(my_dog, 'age') = }\")\n",
    "print(f\"{hasattr(my_dog, 'bark') = }\")\n",
    "print(f\"{hasattr(my_dog, '__init__') = }\")\n",
    "print(f\"{hasattr(my_dog, '__dict__') = }\")"
   ]
  },
  {
   "cell_type": "code",
   "execution_count": 9,
   "metadata": {},
   "outputs": [
    {
     "name": "stdout",
     "output_type": "stream",
     "text": [
      "<__main__.Robot object at 0x00000194704181C0>\n"
     ]
    }
   ],
   "source": [
    "class Robot:\n",
    "    def __init__(self):\n",
    "        name = \"Untitled robot\"\n",
    "\n",
    "my_robot = Robot()\n",
    "print(my_robot)"
   ]
  }
 ],
 "metadata": {
  "kernelspec": {
   "display_name": "base",
   "language": "python",
   "name": "python3"
  },
  "language_info": {
   "codemirror_mode": {
    "name": "ipython",
    "version": 3
   },
   "file_extension": ".py",
   "mimetype": "text/x-python",
   "name": "python",
   "nbconvert_exporter": "python",
   "pygments_lexer": "ipython3",
   "version": "3.10.9"
  },
  "orig_nbformat": 4
 },
 "nbformat": 4,
 "nbformat_minor": 2
}
