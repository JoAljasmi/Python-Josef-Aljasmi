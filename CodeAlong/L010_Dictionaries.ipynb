{
 "cells": [
  {
   "cell_type": "markdown",
   "metadata": {},
   "source": [
    "# Dictionaries\n",
    "- Dictionaries are used to store data in key-value pairs.\n",
    "- Keys are used to access values, and must be unique.\n",
    "- Only immutable types(eg. string, int, float, bool) can be used as keys"
   ]
  },
  {
   "cell_type": "code",
   "execution_count": 8,
   "metadata": {},
   "outputs": [
    {
     "name": "stdout",
     "output_type": "stream",
     "text": [
      "2\n",
      "teacher ={'firstname': 'Fredrik', 'age': 42, 'languages': ['python', 'c#', 'javascript'], 'contactinfo': {'phone': '0702345678', 'email': ['fredrik@everyloop.com', 'fredrikik@gmail.com', 'fredrik.johansson@hotmail.com']}, 'length': 1.8}\n",
      "removed_value = 'Johansson'\n"
     ]
    }
   ],
   "source": [
    "# Create empty dictionary\n",
    "empty_dictionary = {}\n",
    "\n",
    "# Create dictionary with items\n",
    "teacher = {\n",
    "    \"firstname\": \"Fredrik\", \n",
    "    \"lastname\": \"Johansson\",\n",
    "    \"age\" : 42,\n",
    "    \"languages\": [\"python\", \"c#\", \"javascript\"],\n",
    "    \"contactinfo\": {\n",
    "        \"phone\": \"0702345678\",\n",
    "        \"email\": [\n",
    "            \"fredrik@everyloop.com\",\n",
    "            \"fredrikik@gmail.com\",\n",
    "            \"fredrik.johansson@hotmail.com\"\n",
    "        ]\n",
    "    }\n",
    " }\n",
    "\n",
    "# Get number of items in dictionary \n",
    "print(f\"{len(teacher['contactinfo'])}\")\n",
    "\n",
    "# Add key to dictionary\n",
    "teacher[\"length\"] = 1.80\n",
    "\n",
    "# Remove key and return value from dictionary\n",
    "removed_value = teacher.pop(\"lastname\")\n",
    "\n",
    "print(f\"{teacher =}\")\n",
    "print(f\"{removed_value = }\")\n",
    "\n",
    "\n",
    "\n",
    "\n",
    "\n"
   ]
  },
  {
   "cell_type": "markdown",
   "metadata": {},
   "source": [
    "## Get value key"
   ]
  },
  {
   "cell_type": "code",
   "execution_count": null,
   "metadata": {},
   "outputs": [],
   "source": [
    "key = input(\"Enter key:\")\n",
    "\n",
    "if key in teacher:\n",
    "    print(teacher[key])\n",
    "else:\n",
    "    print(\"😘\")"
   ]
  },
  {
   "cell_type": "code",
   "execution_count": null,
   "metadata": {},
   "outputs": [],
   "source": [
    "key = input(\"Enter key: \")\n",
    "print(teacher.getkey(key, \"<3\"))"
   ]
  },
  {
   "cell_type": "markdown",
   "metadata": {},
   "source": [
    "## Looping throguh dictionary"
   ]
  },
  {
   "cell_type": "code",
   "execution_count": null,
   "metadata": {},
   "outputs": [],
   "source": [
    "for key in teacher.keys():\n",
    "    print(key)\n",
    "    \n",
    "print()\n",
    "\n",
    "for value in teacher.values():\n",
    "    print(value)\n",
    "\n",
    "print()\n",
    "\n",
    "for key in teacher:\n",
    "    print(f\"{key} = {teacher[key]}\")\n",
    "\n",
    "print()\n",
    "\n",
    "for key, value in teacher.items():\n",
    "    print(f\"{key} = {value}\")\n"
   ]
  },
  {
   "cell_type": "code",
   "execution_count": null,
   "metadata": {},
   "outputs": [],
   "source": [
    "for key in teacher:\n",
    "    print(value)"
   ]
  }
 ],
 "metadata": {
  "kernelspec": {
   "display_name": "base",
   "language": "python",
   "name": "python3"
  },
  "language_info": {
   "codemirror_mode": {
    "name": "ipython",
    "version": 3
   },
   "file_extension": ".py",
   "mimetype": "text/x-python",
   "name": "python",
   "nbconvert_exporter": "python",
   "pygments_lexer": "ipython3",
   "version": "3.10.9"
  },
  "orig_nbformat": 4
 },
 "nbformat": 4,
 "nbformat_minor": 2
}
