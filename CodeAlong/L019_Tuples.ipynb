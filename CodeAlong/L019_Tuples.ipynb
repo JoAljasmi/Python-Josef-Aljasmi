{
 "cells": [
  {
   "cell_type": "markdown",
   "metadata": {},
   "source": [
    "# Tuples\n",
    "- Tuples are used to store multiple items in a single variable>\n",
    "- Tuple items are ordered, unchangeable, and allow duplicate values.\n",
    "- Tuple allows different data types, and a mix of data types.\n",
    "- Tuple items are indexed, the first item has index [0], the second item has index [1], and so on.\n",
    "- Tuples are written with round brackets. Ex. (), (1,)"
   ]
  },
  {
   "cell_type": "code",
   "execution_count": 1,
   "metadata": {},
   "outputs": [
    {
     "name": "stdout",
     "output_type": "stream",
     "text": [
      "my_tuple[0] = 'Fredrik'\n",
      "('Kalle', 42, 'Everyloop') = \n"
     ]
    }
   ],
   "source": [
    "# Create empty tuple\n",
    "empty_tuples = ()\n",
    "\n",
    "# Create tuple with one item\n",
    "single_item_tuple= (1, )\n",
    "\n",
    "# Created tuple with items \n",
    "my_tuple = (\"Fredrik\", 42, \"Everyloop\")\n",
    "\n",
    "# Tuples can be indexed (and sliced)\n",
    "print(f\"{my_tuple[0] = }\")\n",
    "\n",
    "# But individual items can not be altered \n",
    "# my_tuple[0] = \"Kalle\"\n",
    "\n",
    "# The work around to alter items is to convert to list and back.\n",
    "my_list = list(my_tuple)\n",
    "my_list[0] = \"Kalle\"\n",
    "my_tuple = tuple(my_list)\n",
    "\n",
    "print(f\"{my_tuple = }  \")"
   ]
  },
  {
   "cell_type": "markdown",
   "metadata": {},
   "source": [
    "## Unpacking a tuple\n",
    "when we create a tuple, we normally assign values to it. This is called \"packing\" a tuple.\n",
    "we are also allowed to exract the values back into variable. This is called \"unpacking."
   ]
  },
  {
   "cell_type": "code",
   "execution_count": 3,
   "metadata": {},
   "outputs": [
    {
     "name": "stdout",
     "output_type": "stream",
     "text": [
      "name = 'Kalle'\n",
      "age = 42\n",
      "company = 'Everyloop'\n"
     ]
    }
   ],
   "source": [
    "name, age, company = my_tuple\n",
    "print(f\"{name = }\")\n",
    "print(f\"{age = }\")\n",
    "print(f\"{company = }\")"
   ]
  },
  {
   "cell_type": "markdown",
   "metadata": {},
   "source": [
    "## Looping through tuple"
   ]
  },
  {
   "cell_type": "code",
   "execution_count": 2,
   "metadata": {},
   "outputs": [],
   "source": [
    "for item in my_tuple:\n",
    "    print(item)"
   ]
  },
  {
   "cell_type": "code",
   "execution_count": null,
   "metadata": {},
   "outputs": [],
   "source": [
    "for i in range(len(my_tuple)):\n",
    "    print(my_tuple)"
   ]
  }
 ],
 "metadata": {
  "kernelspec": {
   "display_name": "base",
   "language": "python",
   "name": "python3"
  },
  "language_info": {
   "codemirror_mode": {
    "name": "ipython",
    "version": 3
   },
   "file_extension": ".py",
   "mimetype": "text/x-python",
   "name": "python",
   "nbconvert_exporter": "python",
   "pygments_lexer": "ipython3",
   "version": "3.10.9"
  },
  "orig_nbformat": 4
 },
 "nbformat": 4,
 "nbformat_minor": 2
}
