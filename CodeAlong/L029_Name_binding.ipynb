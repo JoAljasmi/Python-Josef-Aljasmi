{
 "cells": [
  {
   "cell_type": "markdown",
   "metadata": {},
   "source": [
    "# Mutable vs immutable"
   ]
  },
  {
   "cell_type": "code",
   "execution_count": null,
   "metadata": {},
   "outputs": [],
   "source": [
    "a = 1\n",
    "print(a, id(a))\n",
    "a = 2 \n",
    "print(a, id(a))"
   ]
  },
  {
   "cell_type": "markdown",
   "metadata": {},
   "source": [
    "# Rebinding the name vs mutating the value \n",
    "- variables in Python doesn't work the same way as in languages like c# and java\n",
    "- a doesn't refer to a place in memory where we store different values.\n",
    "- rather values themselves are objects in memory, and a is the name bound to it.\n",
    "- a = 2 doesn't mutate the value of 'a', but rather create a new object '2' and rebinds a to it."
   ]
  },
  {
   "cell_type": "code",
   "execution_count": 1,
   "metadata": {},
   "outputs": [
    {
     "name": "stdout",
     "output_type": "stream",
     "text": [
      "a = 1 2483406242032\n",
      "b = 1 2483406242032\n",
      "\n",
      "a = 1 2483406242032\n",
      "b = 2 2483406242064\n"
     ]
    }
   ],
   "source": [
    "a = 1\n",
    "b= a \n",
    "print(f\"{a = }\", id(a))\n",
    "print(f\"{b = }\", id(b))\n",
    "\n",
    "print()\n",
    "b = 2\n",
    "print(f\"{a = }\", id(a))\n",
    "print(f\"{b = }\", id(b))\n"
   ]
  },
  {
   "cell_type": "code",
   "execution_count": 8,
   "metadata": {},
   "outputs": [
    {
     "name": "stdout",
     "output_type": "stream",
     "text": [
      "\n",
      "Bill = 2483484255664\n",
      "Bill = 2483484255664\n",
      "\n",
      "Bull = 2483514635120\n",
      "Bull = 2483514635120\n",
      "\n",
      "Måns =  2483484460576\n",
      "Bull =  2483514635120\n"
     ]
    }
   ],
   "source": [
    "class Cat:\n",
    "    def __init__(self, name):\n",
    "        self.name = name\n",
    "\n",
    "cat_a = Cat(\"Bill\")\n",
    "\n",
    "print()\n",
    "cat_b = cat_a\n",
    "\n",
    "print(f\"{cat_a.name  } =\", id(cat_a.name))\n",
    "print(f\"{cat_b.name  } =\", id(cat_b.name))\n",
    "\n",
    "print()\n",
    "cat_b.name = \"Bull\"\n",
    "\n",
    "print(f\"{cat_a.name  } =\", id(cat_a.name))\n",
    "print(f\"{cat_b.name  } =\", id(cat_b.name))\n",
    "\n",
    "print()\n",
    "cat_a = Cat(\"Måns\")\n",
    "\n",
    "print(f\"{cat_a.name } = \", id(cat_a.name))\n",
    "print(f\"{cat_b.name} = \", id(cat_b.name))\n",
    "\n",
    "        "
   ]
  },
  {
   "cell_type": "markdown",
   "metadata": {},
   "source": [
    "### Names and values\n",
    "- Names refers to values.\n",
    "- Assignments never copies data\n",
    "- Many names cn refer to on value.\n",
    "- Changes in a vlue are visible through all of its names.\n",
    "- Names are reassigned independently of other names.\n",
    "- Objects live until nothing references them.\n",
    "\n",
    "*Python keeps track of how many references each object has, and automatically cleans up objects that have none. This is called \"garbage collection\", and means that you don't have to get rid of objects, they go away by themselves when they are no longer needed.*"
   ]
  },
  {
   "cell_type": "code",
   "execution_count": null,
   "metadata": {},
   "outputs": [],
   "source": [
    "a = \"Pelle\"\n",
    "b = [\"Måns\", \"Pelle\", \"Bill\", \"Bull\"]\n",
    "c = Cat(\"Pelle\")\n",
    "\n",
    "print(id(a))\n",
    "print(id(b[1]))\n",
    "print(id(c.name))"
   ]
  },
  {
   "cell_type": "markdown",
   "metadata": {},
   "source": [
    "### References can be more than just names.\n",
    "Anything that can appear on the left-hand side of an assignment statment is a reference, such as:\n",
    "\n",
    "- list items\n",
    "- dictionary keys and values\n",
    "- object attributes\n",
    "- ... and so on"
   ]
  },
  {
   "cell_type": "code",
   "execution_count": null,
   "metadata": {},
   "outputs": [],
   "source": [
    "a = [1, 2, 3]\n",
    "b = a\n",
    "\n",
    "print(f\"{a = }\", id(a))\n",
    "print(f\"{b = }\", id(b))\n",
    "\n",
    "print()\n",
    "b.append(4)\n",
    "\n",
    "print(f\"{a = }\", id(a))\n",
    "print(f\"{b = }\", id(b))\n",
    "\n",
    "print()\n",
    "b = a.copy()\n",
    "\n",
    "print(f\"{a = }\", id(a))\n",
    "print(f\"{b = }\", id(b))\n",
    "\n",
    "print()\n",
    "print(f\"{a == b = }\")\n",
    "print(f\"{a is b = }\")\n",
    "\n",
    "print()\n",
    "b.append(5)\n",
    "\n",
    "print(f\"{a = }\", id(a))\n",
    "print(f\"{b = }\", id(b))"
   ]
  },
  {
   "cell_type": "markdown",
   "metadata": {},
   "source": [
    "### Identity vs equality\n",
    "- The is operator checks whether two variables refer to the same object.\n",
    "- The == operator checs whether the values of two variables are equal."
   ]
  },
  {
   "cell_type": "code",
   "execution_count": null,
   "metadata": {},
   "outputs": [],
   "source": [
    "import copy\n",
    "\n",
    "cat_a = Cat(\"Pelle\")\n",
    "cat_a.friends = [\"Bill\", \"Bull\"]\n",
    "\n",
    "cat_b = copy.copy(cat_a)\n",
    "\n",
    "print(f\"{cat_a.name = }\", id(cat_a))\n",
    "print(f\"{cat_b.name = }\", id(cat_b))\n",
    "\n",
    "print()\n",
    "cat_b.name = \"Måns\"\n",
    "\n",
    "print(f\"{cat_a.name = }\", id(cat_a.name))\n",
    "print(f\"{cat_b.name = }\", id(cat_b.name))\n",
    "\n",
    "print()\n",
    "cat_b.friends.append(\"Pelle\")\n",
    "\n",
    "print(f\"{cat_a.friends = }\", id(cat_a.friends))\n",
    "print(f\"{cat_b.friends = }\", id(cat_b.friends))\n",
    "\n",
    "print()\n",
    "cat_b = copy.deepcopy(cat_a)\n",
    "\n",
    "print()\n",
    "cat_b.friends.append(\"Måns\")\n",
    "\n",
    "print(f\"{cat_a.friends = }\", id(cat_a.friends))\n",
    "print(f\"{cat_b.friends = }\", id(cat_b.friends))"
   ]
  },
  {
   "cell_type": "markdown",
   "metadata": {},
   "source": [
    "### Shallow vs Deep copy\n",
    "- Assignment statements in Python do not create copies of objects, the only bind names to an object.\n",
    "- A shallow copy means constructing a new collection object and then populating it with references to the child objects found in the original. In essence, a shallow copy is only one level deep. The copying process does not recurse and therefore won't create copies of the child objects themselves.\n",
    "- A deep copy makes the copying process recursive. It means first constructing a new collection object and then recursively populating it with copies of the child objects found in the original. Copying an object this way walks the whole object tree to create a fully independent clone of the orignal object and all of its children."
   ]
  }
 ],
 "metadata": {
  "kernelspec": {
   "display_name": "base",
   "language": "python",
   "name": "python3"
  },
  "language_info": {
   "codemirror_mode": {
    "name": "ipython",
    "version": 3
   },
   "file_extension": ".py",
   "mimetype": "text/x-python",
   "name": "python",
   "nbconvert_exporter": "python",
   "pygments_lexer": "ipython3",
   "version": "3.10.9"
  },
  "orig_nbformat": 4
 },
 "nbformat": 4,
 "nbformat_minor": 2
}
