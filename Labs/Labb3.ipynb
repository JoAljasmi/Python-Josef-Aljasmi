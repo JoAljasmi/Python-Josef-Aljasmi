{
 "cells": [
  {
   "cell_type": "code",
   "execution_count": null,
   "id": "d0bb6f60fceb7842",
   "metadata": {
    "collapsed": false
   },
   "outputs": [],
   "source": [
    "from geometry_shapes import Circle\n",
    "cirkel1 = Circle(x=0,y=0, radius=1) # enhetscirkel \n",
    "cirkel2 = Circle(x=1,y=1, radius=1)\n",
    "rektangel = Rectangle(x=0,y=0,height=1, width=1)\n",
    "print(cirkel1==cirkel2) # True\n",
    "print(cirkel2==rektangel) # False\n",
    "print(cirkel1.is_inside(0.5, 0.5)) # True\n",
    "cirkel1.translate(5,5)\n",
    "print(cirkel1.is_inside(0.5, 0.5)) # False\n",
    "cirkel1.translate(\"TRE\",5) # ge ValueError med lämplig kommentar\n"
   ]
  }
 ],
 "metadata": {
  "kernelspec": {
   "display_name": "Python 3",
   "language": "python",
   "name": "python3"
  },
  "language_info": {
   "codemirror_mode": {
    "name": "ipython",
    "version": 2
   },
   "file_extension": ".py",
   "mimetype": "text/x-python",
   "name": "python",
   "nbconvert_exporter": "python",
   "pygments_lexer": "ipython2",
   "version": "3.10.9"
  }
 },
 "nbformat": 4,
 "nbformat_minor": 5
}
