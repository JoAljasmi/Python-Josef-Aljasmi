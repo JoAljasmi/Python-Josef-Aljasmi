{
 "cells": [
  {
   "cell_type": "markdown",
   "metadata": {},
   "source": [
    "# Labb 2"
   ]
  },
  {
   "cell_type": "code",
   "execution_count": 30,
   "metadata": {},
   "outputs": [
    {
     "name": "stdout",
     "output_type": "stream",
     "text": [
      "Point (25, 32) is classified as Pikachu\n",
      "Point (24.2, 31.5) is classified as Pikachu\n",
      "Point (22, 34) is classified as Pikachu\n",
      "Point (20.5, 34) is classified as Pichu\n"
     ]
    },
    {
     "data": {
      "image/png": "[encoded data removed]",
      "text/plain": [
       "<Figure size 800x600 with 1 Axes>"
      ]
     },
     "metadata": {},
     "output_type": "display_data"
    }
   ],
   "source": [
    "import matplotlib.pyplot as plt\n",
    "\n",
    "Data = [] #(width (cm), height (cm), label (0-pichu, 1-pikachu))  \n",
    "points_to_classify = [(25, 32), (24.2, 31.5), (22, 34), (20.5, 34)]\n",
    "plt.figure(figsize=(8,6))\n",
    "\n",
    "\n",
    "with open(\"Data_For_Labb2.csv\",\"r\") as file:                        # taking all data from file into a dict\n",
    "    for lines in file:\n",
    "        values = [float(x) for x in lines.strip().split(',')]\n",
    "        Data.append(values)\n",
    "\n",
    "width_dict = {\"width\":[]}\n",
    "height_dict = {\"height\":[]}\n",
    "label_dict = {\"label\":[]}\n",
    "\n",
    "for row in Data:                                                   # making 3 different different dicts\n",
    "    width, height, label = row\n",
    "    width_dict[\"width\"].append(width)\n",
    "    height_dict[\"height\"].append(height)\n",
    "    label_dict[\"label\"].append(label)\n",
    "\n",
    "width_values = width_dict[\"width\"]\n",
    "height_values = height_dict[\"height\"]\n",
    "label_values = label_dict[\"label\"]\n",
    "\n",
    "def classify_point(point, data):                                    #pinpointing data\n",
    "      min_distance = float('inf')\n",
    "      closest_label = None\n",
    "    \n",
    "      for row in data:\n",
    "          width, height, label = row\n",
    "          distance = ((point[0] - width) ** 2 + (point[1] - height) ** 2) ** 0.5\n",
    "\n",
    "          if distance < min_distance:\n",
    "            min_distance = distance\n",
    "            closest_label = label\n",
    "\n",
    "      return closest_label\n",
    "\n",
    "for point in points_to_classify:\n",
    "     predicted_label = classify_point(point, Data)\n",
    "    \n",
    "     if predicted_label == 1:\n",
    "         print(f\"Point {point} is classified as Pikachu\")\n",
    "     else:\n",
    "         print(f\"Point {point} is classified as Pichu\")\n",
    "\n",
    "for label in set(label_values):\n",
    "    x = [width_values[i] for i in range(len(label_values)) if label_values[i] == label]\n",
    "    y = [height_values[i] for i in range(len(label_values)) if label_values[i] == label]\n",
    "    \n",
    "    if label == 1:\n",
    "        label_name = \"pikachu\"\n",
    "    else:\n",
    "        label_name = \"pichu\"\n",
    "\n",
    "    plt.scatter(x, y, label= label_name)\n",
    "\n",
    "plt.title('Scatter plot of Pichu vs. Pickachu')\n",
    "plt.legend()\n",
    "plt.show()\n",
    "\n",
    "\n",
    "\n",
    "\n",
    "\n"
   ]
  },
  {
   "cell_type": "markdown",
   "metadata": {},
   "source": [
    "# Uppgift 1"
   ]
  },
  {
   "cell_type": "code",
   "execution_count": 37,
   "metadata": {},
   "outputs": [
    {
     "name": "stdout",
     "output_type": "stream",
     "text": [
      "Write a positive number\n",
      "The point (2.0, 3.0) is classified as Pichu\n"
     ]
    }
   ],
   "source": [
    "Data = []   \n",
    "\n",
    "with open(\"Data_For_Labb2.csv\",\"r\") as file:                        # taking all data from file into a dict\n",
    "    for lines in file:\n",
    "        values = [float(x) for x in lines.strip().split(',')]\n",
    "        Data.append(values)\n",
    "\n",
    "width_dict = {\"width\":[]}\n",
    "height_dict = {\"height\":[]}\n",
    "label_dict = {\"label\":[]}\n",
    "\n",
    "for row in Data:                                                   # making 3 different different dicts\n",
    "    width, height, label = row\n",
    "    width_dict[\"width\"].append(width)\n",
    "    height_dict[\"height\"].append(height)\n",
    "    label_dict[\"label\"].append(label)\n",
    "\n",
    "width_values = width_dict[\"width\"]\n",
    "height_values = height_dict[\"height\"]\n",
    "label_values = label_dict[\"label\"]\n",
    "\n",
    "def classify_point(point, data):                                    #pinpointing data\n",
    "      min_distance = float('inf')\n",
    "      closest_label = None\n",
    "    \n",
    "      for row in data:\n",
    "          width, height, label = row\n",
    "          distance = ((point[0] - width) ** 2 + (point[1] - height) ** 2) ** 0.5\n",
    "\n",
    "          if distance < min_distance:\n",
    "            min_distance = distance\n",
    "            closest_label = label\n",
    "\n",
    "      return closest_label\n",
    "\n",
    "while True:                                               #userinput\n",
    "    try:\n",
    "        \n",
    "        x_inputed_axis = float(input(\"Enter the x-coordinate: \"))\n",
    "        y_inputed_axis = float(input(\"Enter the y-coordinate: \"))\n",
    "        \n",
    "        if x_inputed_axis < 0 or y_inputed_axis < 0:\n",
    "            print(\"Write a positive number\")\n",
    "            continue\n",
    "\n",
    "        input_point = (x_inputed_axis, y_inputed_axis)\n",
    "        predicted_label = classify_point(input_point, Data)\n",
    "\n",
    "        if predicted_label == 1:\n",
    "            print(f\"The point {input_point} is classified as Pikachu\")\n",
    "        else:\n",
    "            print(f\"The point {input_point} is classified as Pichu\")\n",
    "\n",
    "    except ValueError:\n",
    "        print(\"Invalid input. Please enter valid numeric coordinates.\")\n",
    "\n",
    "    \n",
    "    another_point = input(\"Do you want to try another point? (yes/no): \").lower()\n",
    "    if another_point != 'yes':\n",
    "        break\n",
    "\n",
    "\n",
    "    \n",
    "\n",
    "\n",
    "\n",
    "\n",
    "\n"
   ]
  },
  {
   "cell_type": "markdown",
   "metadata": {},
   "source": [
    "# Uppgift 2"
   ]
  },
  {
   "cell_type": "code",
   "execution_count": 5,
   "metadata": {},
   "outputs": [
    {
     "name": "stdout",
     "output_type": "stream",
     "text": [
      "The point (30.0, 30.0) is classified as Pikachu\n",
      "The point (27.0, 27.0) is classified as Pichu\n",
      "The point (28.0, 28.0) is classified as Pikachu\n",
      "The point (27.5, 27.5) is classified as Pikachu\n",
      "The point (27.4, 27.4) is classified as Pikachu\n",
      "The point (27.3, 27.3) is classified as Pikachu\n",
      "The nearest neighbors are evenly split between Pikachu and Pichu.\n"
     ]
    }
   ],
   "source": [
    "import csv\n",
    "import numpy as np\n",
    "\n",
    "# Load data from CSV into a NumPy array\n",
    "def load_data(filename):\n",
    "    data = []\n",
    "    with open(filename, \"r\") as file:\n",
    "        csv_reader = csv.reader(file)\n",
    "        for row in csv_reader:\n",
    "            data.append(list(map(float, row)))\n",
    "    return np.array(data)\n",
    "\n",
    "# Organizing the data into separate arrays\n",
    "data = load_data(\"Data_For_Labb2.csv\")\n",
    "width_values, height_values, label_values = data[:, 0], data[:, 1], data[:, 2]\n",
    "\n",
    "# Pinpointing data based on nearest k points\n",
    "def classify_point(point, data, k=10):\n",
    "    distances = np.sqrt(np.sum((data[:, :2] - point) ** 2, axis=1))\n",
    "    nearest_indices = np.argsort(distances)[:k]\n",
    "    nearest_labels = data[nearest_indices, 2]\n",
    "    label_counts = np.bincount(nearest_labels.astype(int))\n",
    "    \n",
    "    if len(label_counts) == 2:\n",
    "        if label_counts[0] == label_counts[1]:\n",
    "            return \"Evenly split\"\n",
    "        else:\n",
    "            return np.argmax(label_counts)\n",
    "    else:\n",
    "        return label_counts[0]\n",
    "\n",
    "while True:\n",
    "    try:\n",
    "        x_inputed_axis = float(input(\"Enter the x-coordinate: \"))\n",
    "        y_inputed_axis = float(input(\"Enter the y-coordinate: \"))\n",
    "        \n",
    "        if x_inputed_axis < 0 or y_inputed_axis < 0:\n",
    "            print(\"Write a positive number\")\n",
    "            continue\n",
    "\n",
    "        input_point = np.array([x_inputed_axis, y_inputed_axis])\n",
    "        predicted_label = classify_point(input_point, data, k=10)\n",
    "\n",
    "        if predicted_label == \"Evenly split\":\n",
    "            print(\"The nearest neighbors are evenly split between Pikachu and Pichu.\")\n",
    "        elif predicted_label == 1:\n",
    "            print(f\"The point {input_point} is classified as Pikachu\")\n",
    "        else:\n",
    "            print(f\"The point {input_point} is classified as Pichu\")\n",
    "\n",
    "    except ValueError:\n",
    "        print(\"Invalid input. Please enter valid coordinates.\")\n",
    "\n",
    "    another_point = input(\"Do you want to try another point? (yes/no): \").lower()\n",
    "    if another_point != 'yes':\n",
    "        break"
   ]
  }
 ],
 "metadata": {
  "kernelspec": {
   "display_name": "base",
   "language": "python",
   "name": "python3"
  },
  "language_info": {
   "codemirror_mode": {
    "name": "ipython",
    "version": 3
   },
   "file_extension": ".py",
   "mimetype": "text/x-python",
   "name": "python",
   "nbconvert_exporter": "python",
   "pygments_lexer": "ipython3",
   "version": "3.10.9"
  },
  "orig_nbformat": 4
 },
 "nbformat": 4,
 "nbformat_minor": 2
}
